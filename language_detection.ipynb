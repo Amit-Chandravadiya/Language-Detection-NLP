{
 "cells": [
  {
   "cell_type": "code",
   "execution_count": 1,
   "metadata": {},
   "outputs": [],
   "source": [
    "# Importing all the necessary libraries required\n",
    "\n",
    "import pandas as pd\n",
    "import numpy as np\n",
    "import re\n",
    "import seaborn as sns\n",
    "import matplotlib.pyplot as plt\n",
    "import warnings\n",
    "from sklearn.preprocessing import LabelEncoder"
   ]
  },
  {
   "cell_type": "code",
   "execution_count": 2,
   "metadata": {},
   "outputs": [
    {
     "data": {
      "text/html": [
       "<div>\n",
       "<style scoped>\n",
       "    .dataframe tbody tr th:only-of-type {\n",
       "        vertical-align: middle;\n",
       "    }\n",
       "\n",
       "    .dataframe tbody tr th {\n",
       "        vertical-align: top;\n",
       "    }\n",
       "\n",
       "    .dataframe thead th {\n",
       "        text-align: right;\n",
       "    }\n",
       "</style>\n",
       "<table border=\"1\" class=\"dataframe\">\n",
       "  <thead>\n",
       "    <tr style=\"text-align: right;\">\n",
       "      <th></th>\n",
       "      <th>Text</th>\n",
       "      <th>Language</th>\n",
       "    </tr>\n",
       "  </thead>\n",
       "  <tbody>\n",
       "    <tr>\n",
       "      <th>0</th>\n",
       "      <td>Nature, in the broadest sense, is the natural...</td>\n",
       "      <td>English</td>\n",
       "    </tr>\n",
       "    <tr>\n",
       "      <th>1</th>\n",
       "      <td>\"Nature\" can refer to the phenomena of the phy...</td>\n",
       "      <td>English</td>\n",
       "    </tr>\n",
       "    <tr>\n",
       "      <th>2</th>\n",
       "      <td>The study of nature is a large, if not the onl...</td>\n",
       "      <td>English</td>\n",
       "    </tr>\n",
       "    <tr>\n",
       "      <th>3</th>\n",
       "      <td>Although humans are part of nature, human acti...</td>\n",
       "      <td>English</td>\n",
       "    </tr>\n",
       "    <tr>\n",
       "      <th>4</th>\n",
       "      <td>[1] The word nature is borrowed from the Old F...</td>\n",
       "      <td>English</td>\n",
       "    </tr>\n",
       "    <tr>\n",
       "      <th>5</th>\n",
       "      <td>[2] In ancient philosophy, natura is mostly us...</td>\n",
       "      <td>English</td>\n",
       "    </tr>\n",
       "    <tr>\n",
       "      <th>6</th>\n",
       "      <td>[3][4] \\nThe concept of nature as a whole, the...</td>\n",
       "      <td>English</td>\n",
       "    </tr>\n",
       "    <tr>\n",
       "      <th>7</th>\n",
       "      <td>During the advent of modern scientific method ...</td>\n",
       "      <td>English</td>\n",
       "    </tr>\n",
       "    <tr>\n",
       "      <th>8</th>\n",
       "      <td>[5][6] With the Industrial revolution, nature ...</td>\n",
       "      <td>English</td>\n",
       "    </tr>\n",
       "    <tr>\n",
       "      <th>9</th>\n",
       "      <td>However, a vitalist vision of nature, closer t...</td>\n",
       "      <td>English</td>\n",
       "    </tr>\n",
       "  </tbody>\n",
       "</table>\n",
       "</div>"
      ],
      "text/plain": [
       "                                                Text Language\n",
       "0   Nature, in the broadest sense, is the natural...  English\n",
       "1  \"Nature\" can refer to the phenomena of the phy...  English\n",
       "2  The study of nature is a large, if not the onl...  English\n",
       "3  Although humans are part of nature, human acti...  English\n",
       "4  [1] The word nature is borrowed from the Old F...  English\n",
       "5  [2] In ancient philosophy, natura is mostly us...  English\n",
       "6  [3][4] \\nThe concept of nature as a whole, the...  English\n",
       "7  During the advent of modern scientific method ...  English\n",
       "8  [5][6] With the Industrial revolution, nature ...  English\n",
       "9  However, a vitalist vision of nature, closer t...  English"
      ]
     },
     "execution_count": 2,
     "metadata": {},
     "output_type": "execute_result"
    }
   ],
   "source": [
    "# loding csv file into dataframe.\n",
    "\n",
    "data = pd.read_csv(\"/Users/amit/Downloads/Language Detection.csv\")\n",
    "data.head(10)"
   ]
  },
  {
   "cell_type": "code",
   "execution_count": 3,
   "metadata": {},
   "outputs": [
    {
     "data": {
      "text/plain": [
       "English       1385\n",
       "French        1014\n",
       "Spanish        819\n",
       "Portugeese     739\n",
       "Italian        698\n",
       "Russian        692\n",
       "Sweedish       676\n",
       "Malayalam      594\n",
       "Dutch          546\n",
       "Arabic         536\n",
       "Turkish        474\n",
       "German         470\n",
       "Tamil          469\n",
       "Danish         428\n",
       "Kannada        369\n",
       "Greek          365\n",
       "Hindi           63\n",
       "Name: Language, dtype: int64"
      ]
     },
     "execution_count": 3,
     "metadata": {},
     "output_type": "execute_result"
    }
   ],
   "source": [
    "# Counting number of sentences in the given languages.\n",
    "data[\"Language\"].value_counts()"
   ]
  },
  {
   "cell_type": "code",
   "execution_count": 4,
   "metadata": {},
   "outputs": [],
   "source": [
    "sr=pd.Series(data[\"Language\"].value_counts())\n",
    "lan=sr.to_numpy()\n",
    "sr2=pd.Series(data[\"Language\"].value_counts().index.tolist())\n",
    "lan2=sr2.to_numpy()\n"
   ]
  },
  {
   "cell_type": "code",
   "execution_count": 5,
   "metadata": {},
   "outputs": [
    {
     "data": {
      "image/png": "[encoded data removed]",
      "text/plain": [
       "<Figure size 1440x720 with 1 Axes>"
      ]
     },
     "metadata": {
      "needs_background": "light"
     },
     "output_type": "display_data"
    }
   ],
   "source": [
    "fig = plt.figure(figsize = (20, 10))\n",
    "plt.bar(lan2, lan, color ='maroon',)\n",
    "plt.xlabel(\"Languages\")\n",
    "plt.ylabel(\"No. of Datasets\")\n",
    "plt.title(\"Analysis of Datasets\")\n",
    "plt.show()"
   ]
  },
  {
   "cell_type": "code",
   "execution_count": 6,
   "metadata": {},
   "outputs": [],
   "source": [
    "# Now saperating Independent and Dependent variable.\n",
    "\n",
    "y=data['Language']\n",
    "x=data['Text']\n"
   ]
  },
  {
   "cell_type": "code",
   "execution_count": 7,
   "metadata": {},
   "outputs": [
    {
     "data": {
      "text/plain": [
       "0        English\n",
       "1        English\n",
       "2        English\n",
       "3        English\n",
       "4        English\n",
       "          ...   \n",
       "10332    Kannada\n",
       "10333    Kannada\n",
       "10334    Kannada\n",
       "10335    Kannada\n",
       "10336    Kannada\n",
       "Name: Language, Length: 10337, dtype: object"
      ]
     },
     "execution_count": 7,
     "metadata": {},
     "output_type": "execute_result"
    }
   ],
   "source": [
    "y"
   ]
  },
  {
   "cell_type": "code",
   "execution_count": 8,
   "metadata": {},
   "outputs": [
    {
     "data": {
      "text/plain": [
       "0         Nature, in the broadest sense, is the natural...\n",
       "1        \"Nature\" can refer to the phenomena of the phy...\n",
       "2        The study of nature is a large, if not the onl...\n",
       "3        Although humans are part of nature, human acti...\n",
       "4        [1] The word nature is borrowed from the Old F...\n",
       "                               ...                        \n",
       "10332    ನಿಮ್ಮ ತಪ್ಪು ಏನು ಬಂದಿದೆಯೆಂದರೆ ಆ ದಿನದಿಂದ ನಿಮಗೆ ಒ...\n",
       "10333    ನಾರ್ಸಿಸಾ ತಾನು ಮೊದಲಿಗೆ ಹೆಣಗಾಡುತ್ತಿದ್ದ ಮಾರ್ಗಗಳನ್...\n",
       "10334    ಹೇಗೆ ' ನಾರ್ಸಿಸಿಸಮ್ ಈಗ ಮರಿಯನ್ ಅವರಿಗೆ ಸಂಭವಿಸಿದ ಎ...\n",
       "10335    ಅವಳು ಈಗ ಹೆಚ್ಚು ಚಿನ್ನದ ಬ್ರೆಡ್ ಬಯಸುವುದಿಲ್ಲ ಎಂದು ...\n",
       "10336    ಟೆರ್ರಿ ನೀವು ನಿಜವಾಗಿಯೂ ಆ ದೇವದೂತನಂತೆ ಸ್ವಲ್ಪ ಕಾಣು...\n",
       "Name: Text, Length: 10337, dtype: object"
      ]
     },
     "execution_count": 8,
     "metadata": {},
     "output_type": "execute_result"
    }
   ],
   "source": [
    "x"
   ]
  },
  {
   "cell_type": "code",
   "execution_count": 9,
   "metadata": {},
   "outputs": [
    {
     "data": {
      "text/plain": [
       "10337"
      ]
     },
     "execution_count": 9,
     "metadata": {},
     "output_type": "execute_result"
    }
   ],
   "source": [
    "# total no of languages in serires y .\n",
    "\n",
    "y.count()"
   ]
  },
  {
   "cell_type": "code",
   "execution_count": 10,
   "metadata": {},
   "outputs": [],
   "source": [
    "# Extracting unique languages from y\n",
    "\n",
    "z=pd.DataFrame(y.unique())"
   ]
  },
  {
   "cell_type": "code",
   "execution_count": 11,
   "metadata": {},
   "outputs": [
    {
     "data": {
      "text/html": [
       "<div>\n",
       "<style scoped>\n",
       "    .dataframe tbody tr th:only-of-type {\n",
       "        vertical-align: middle;\n",
       "    }\n",
       "\n",
       "    .dataframe tbody tr th {\n",
       "        vertical-align: top;\n",
       "    }\n",
       "\n",
       "    .dataframe thead th {\n",
       "        text-align: right;\n",
       "    }\n",
       "</style>\n",
       "<table border=\"1\" class=\"dataframe\">\n",
       "  <thead>\n",
       "    <tr style=\"text-align: right;\">\n",
       "      <th></th>\n",
       "      <th>0</th>\n",
       "    </tr>\n",
       "  </thead>\n",
       "  <tbody>\n",
       "    <tr>\n",
       "      <th>0</th>\n",
       "      <td>English</td>\n",
       "    </tr>\n",
       "    <tr>\n",
       "      <th>1</th>\n",
       "      <td>Malayalam</td>\n",
       "    </tr>\n",
       "    <tr>\n",
       "      <th>2</th>\n",
       "      <td>Hindi</td>\n",
       "    </tr>\n",
       "    <tr>\n",
       "      <th>3</th>\n",
       "      <td>Tamil</td>\n",
       "    </tr>\n",
       "    <tr>\n",
       "      <th>4</th>\n",
       "      <td>Portugeese</td>\n",
       "    </tr>\n",
       "    <tr>\n",
       "      <th>5</th>\n",
       "      <td>French</td>\n",
       "    </tr>\n",
       "    <tr>\n",
       "      <th>6</th>\n",
       "      <td>Dutch</td>\n",
       "    </tr>\n",
       "    <tr>\n",
       "      <th>7</th>\n",
       "      <td>Spanish</td>\n",
       "    </tr>\n",
       "    <tr>\n",
       "      <th>8</th>\n",
       "      <td>Greek</td>\n",
       "    </tr>\n",
       "    <tr>\n",
       "      <th>9</th>\n",
       "      <td>Russian</td>\n",
       "    </tr>\n",
       "    <tr>\n",
       "      <th>10</th>\n",
       "      <td>Danish</td>\n",
       "    </tr>\n",
       "    <tr>\n",
       "      <th>11</th>\n",
       "      <td>Italian</td>\n",
       "    </tr>\n",
       "    <tr>\n",
       "      <th>12</th>\n",
       "      <td>Turkish</td>\n",
       "    </tr>\n",
       "    <tr>\n",
       "      <th>13</th>\n",
       "      <td>Sweedish</td>\n",
       "    </tr>\n",
       "    <tr>\n",
       "      <th>14</th>\n",
       "      <td>Arabic</td>\n",
       "    </tr>\n",
       "    <tr>\n",
       "      <th>15</th>\n",
       "      <td>German</td>\n",
       "    </tr>\n",
       "    <tr>\n",
       "      <th>16</th>\n",
       "      <td>Kannada</td>\n",
       "    </tr>\n",
       "  </tbody>\n",
       "</table>\n",
       "</div>"
      ],
      "text/plain": [
       "             0\n",
       "0      English\n",
       "1    Malayalam\n",
       "2        Hindi\n",
       "3        Tamil\n",
       "4   Portugeese\n",
       "5       French\n",
       "6        Dutch\n",
       "7      Spanish\n",
       "8        Greek\n",
       "9      Russian\n",
       "10      Danish\n",
       "11     Italian\n",
       "12     Turkish\n",
       "13    Sweedish\n",
       "14      Arabic\n",
       "15      German\n",
       "16     Kannada"
      ]
     },
     "execution_count": 11,
     "metadata": {},
     "output_type": "execute_result"
    }
   ],
   "source": [
    "z"
   ]
  },
  {
   "cell_type": "code",
   "execution_count": 12,
   "metadata": {},
   "outputs": [],
   "source": [
    "lbe=LabelEncoder()\n",
    "z=lbe.fit_transform(y)"
   ]
  },
  {
   "cell_type": "code",
   "execution_count": 13,
   "metadata": {},
   "outputs": [
    {
     "data": {
      "text/plain": [
       "array([3, 3, 3, ..., 9, 9, 9])"
      ]
     },
     "execution_count": 13,
     "metadata": {},
     "output_type": "execute_result"
    }
   ],
   "source": [
    "z"
   ]
  },
  {
   "cell_type": "code",
   "execution_count": 14,
   "metadata": {},
   "outputs": [
    {
     "data": {
      "text/plain": [
       "(10337,)"
      ]
     },
     "execution_count": 14,
     "metadata": {},
     "output_type": "execute_result"
    }
   ],
   "source": [
    "z.shape"
   ]
  },
  {
   "cell_type": "code",
   "execution_count": 15,
   "metadata": {},
   "outputs": [
    {
     "name": "stderr",
     "output_type": "stream",
     "text": [
      "<ipython-input-15-2b8444920ad2>:8: FutureWarning: Possible nested set at position 1\n",
      "  text = re.sub(r'[[]]', '', text)\n"
     ]
    }
   ],
   "source": [
    "# creating a list for appending the preprocessed text\n",
    "data_list = []\n",
    "# iterating through all the text\n",
    "for text in x:\n",
    "       # removing the symbols and numbers\n",
    "        text = re.sub(r'[!@#$(),n\"%^*?:;~`\"0-9]', '', text)\n",
    "        re.sub(r'\\[\\[(?:[^\\]|]*\\|)?([^\\]|]*)\\]\\]', '', text)\n",
    "        text = re.sub(r'[[]]', '', text)\n",
    "        # converting the text to lower case\n",
    "        text = text.lower()\n",
    "        # appending to data_list\n",
    "        data_list.append(text)"
   ]
  },
  {
   "cell_type": "code",
   "execution_count": 16,
   "metadata": {},
   "outputs": [
    {
     "data": {
      "text/plain": [
       "[' nature i the broadest sese is the atural physical material world or uiverse.',\n",
       " 'nature ca refer to the pheomea of the physical world ad also to life i geeral.',\n",
       " 'the study of ature is a large if ot the oly part of sciece.',\n",
       " 'although humas are part of ature huma activity is ofte uderstood as a separate category from other atural pheomea.',\n",
       " ' the word ature is borrowed from the old frech ature ad is derived from the lati word atura or essetial qualities iate dispositio ad i aciet times literally meat birth.',\n",
       " ' i aciet philosophy atura is mostly used as the lati traslatio of the greek word physis φύσις which origially related to the itrisic characteristics that plats aimals ad other features of the world develop of their ow accord.',\n",
       " ' \\nthe cocept of ature as a whole the physical uiverse is oe of several expasios of the origial otio it bega with certai core applicatios of the word φύσις by pre-socratic philosophers though this word had a dyamic dimesio the especially for heraclitus ad has steadily gaied currecy ever sice.',\n",
       " 'durig the advet of moder scietific method i the last several ceturies ature became the passive reality orgaized ad moved by divie laws.',\n",
       " ' with the idustrial revolutio ature icreasigly became see as the part of reality deprived from itetioal itervetio\\xa0 it was hece cosidered as sacred by some traditios rousseau america trascedetalism or a mere decorum for divie providece or huma history hegel marx.',\n",
       " 'however a vitalist visio of ature closer to the presocratic oe got rebor at the same time especially after charles darwi.',\n",
       " ' withi the various uses of the word today ature ofte refers to geology ad wildlife.',\n",
       " 'nature ca refer to the geeral realm of livig plats ad aimals ad i some cases to the processes associated with iaimate objects—the way that particular types of thigs exist ad chage of their ow accord such as the weather ad geology of the earth.',\n",
       " 'it is ofte take to mea the atural eviromet or wilderess—wild aimals rocks forest ad i geeral those thigs that have ot bee substatially altered by huma itervetio or which persist despite huma itervetio.',\n",
       " 'for example maufactured objects ad huma iteractio geerally are ot cosidered part of ature uless qualified as for example huma ature or the whole of ature.',\n",
       " 'this more traditioal cocept of atural thigs that ca still be foud today implies a distictio betwee the atural ad the artificial with the artificial beig uderstood as that which has bee brought ito beig by a huma cosciousess or a huma mid.',\n",
       " 'depedig o the particular cotext the term atural might also be distiguished from the uatural or the superatural.',\n",
       " ' earth is the oly plaet kow to support life ad its atural features are the subject of may fields of scietific research.',\n",
       " 'withi the solar system it is third closest to the su it is the largest terrestrial plaet ad the fifth largest overall.',\n",
       " 'its most promiet climatic features are its two large polar regios two relatively arrow temperate zoes ad a wide equatorial tropical to subtropical regio.',\n",
       " ' precipitatio varies widely with locatio from several metres of water per year to less tha a millimetre.',\n",
       " \" percet of the earth's surface is covered by salt-water oceas.\",\n",
       " 'the remaider cosists of cotiets ad islads with most of the ihabited lad i the norther hemisphere.',\n",
       " 'earth has evolved through geological ad biological processes that have left traces of the origial coditios.',\n",
       " 'the outer surface is divided ito several gradually migratig tectoic plates.',\n",
       " 'the iterior remais active with a thick layer of plastic matle ad a iro-filled core that geerates a magetic field.',\n",
       " 'this iro core is composed of a solid ier phase ad a fluid outer phase.',\n",
       " 'covective motio i the core geerates electric currets through dyamo actio ad these i tur geerate the geomagetic field.',\n",
       " 'the atmospheric coditios have bee sigificatly altered from the origial coditios by the presece of life-forms which create a ecological balace that stabilizes the surface coditios.',\n",
       " 'despite the wide regioal variatios i climate by latitude ad other geographic factors the log-term average global climate is quite stable durig iterglacial periods ad variatios of a degree or two of average global temperature have historically had major effects o the ecological balace ad o the actual geography of the earth.',\n",
       " ' geology is the sciece ad study of the solid ad liquid matter that costitutes the earth.',\n",
       " 'the field of geology ecompasses the study of the compositio structure physical properties dyamics ad history of earth materials ad the processes by which they are formed moved ad chaged.',\n",
       " 'the field is a major academic disciplie ad is also importat for mieral ad hydrocarbo extractio kowledge about ad mitigatio of atural hazards some geotechical egieerig fields ad uderstadig past climates ad eviromets.',\n",
       " 'the geology of a area evolves through time as rock uits are deposited ad iserted ad deformatioal processes chage their shapes ad locatios.',\n",
       " 'rock uits are first emplaced either by depositio oto the surface or itrude ito the overlyig rock.',\n",
       " 'depositio ca occur whe sedimets settle oto the surface of the earth ad later lithify ito sedimetary rock or whe as volcaic material such as volcaic ash or lava flows blaket the surface.',\n",
       " 'igeous itrusios such as batholiths laccoliths dikes ad sills push upwards ito the overlyig rock ad crystallize as they itrude.',\n",
       " 'after the iitial sequece of rocks has bee deposited the rock uits ca be deformed ad/or metamorphosed.',\n",
       " 'deformatio typically occurs as a result of horizotal shorteig horizotal extesio or side-to-side strike-slip motio.',\n",
       " 'these structural regimes broadly relate to coverget boudaries diverget boudaries ad trasform boudaries respectively betwee tectoic plates.',\n",
       " 'earth is estimated to have formed .\\xa0billio years ago from the solar ebula alog with the su ad other plaets.',\n",
       " ' the moo formed roughly \\xa0millio years later.',\n",
       " 'iitially molte the outer layer of the earth cooled resultig i the solid crust.',\n",
       " 'outgassig ad volcaic activity produced the primordial atmosphere.',\n",
       " 'codesig water vapor most or all of which came from ice delivered by comets produced the oceas ad other water sources.',\n",
       " ' the highly eergetic chemistry is believed to have produced a self-replicatig molecule aroud \\xa0billio years ago.',\n",
       " ' cotiets formed the broke up ad reformed as the surface of earth reshaped over hudreds of millios of years occasioally combiig to make a supercotiet.',\n",
       " 'roughly \\xa0millio years ago the earliest kow supercotiet rodiia bega to break apart.',\n",
       " 'the cotiets later recombied to form paotia which broke apart about \\xa0millio years ago the fially pagaea which broke apart about \\xa0millio years ago.',\n",
       " ' durig the neoproterozoic era freezig temperatures covered much of the earth i glaciers ad ice sheets.',\n",
       " 'this hypothesis has bee termed the sowball earth ad it is of particular iterest as it precedes the cambria explosio i which multicellular life forms bega to proliferate about –\\xa0millio years ago.',\n",
       " ' sice the cambria explosio there have bee five distictly idetifiable mass extictios.',\n",
       " ' the last mass extictio occurred some  millio years ago whe a meteorite collisio probably triggered the extictio of the o-avia diosaurs ad other large reptiles but spared small aimals such as mammals.',\n",
       " 'over the past \\xa0millio years mammalia life diversified.',\n",
       " ' several millio years ago a species of small africa ape gaied the ability to stad upright.',\n",
       " ' the subsequet advet of huma life ad the developmet of agriculture ad further civilizatio allowed humas to affect the earth more rapidly tha ay previous life form affectig both the ature ad quatity of other orgaisms as well as global climate.',\n",
       " 'by compariso the great oxygeatio evet produced by the proliferatio of algae durig the sideria period required about \\xa0millio years to culmiate.',\n",
       " 'the preset era is classified as part of a mass extictio evet the holocee extictio evet the fastest ever to have occurred.',\n",
       " ' some such as e. o. wilso of harvard uiversity predict that huma destructio of the biosphere could cause the extictio of oe-half of all species i the ext \\xa0years.',\n",
       " ' the extet of the curret extictio evet is still beig researched debated ad calculated by biologists.',\n",
       " \" the earth's atmosphere is a key factor i sustaiig the ecosystem.\",\n",
       " 'the thi layer of gases that evelops the earth is held i place by gravity.',\n",
       " 'air is mostly itroge oxyge water vapor with much smaller amouts of carbo dioxide argo etc.',\n",
       " 'the atmospheric pressure declies steadily with altitude.',\n",
       " 'the ozoe layer plays a importat role i depletig the amout of ultraviolet uv radiatio that reaches the surface.',\n",
       " 'as dna is readily damaged by uv light this serves to protect life at the surface.',\n",
       " 'the atmosphere also retais heat durig the ight thereby reducig the daily temperature extremes.',\n",
       " 'terrestrial weather occurs almost exclusively i the lower part of the atmosphere ad serves as a covective system for redistributig heat.',\n",
       " ' ocea currets are aother importat factor i determiig climate particularly the major uderwater thermohalie circulatio which distributes heat eergy from the equatorial oceas to the polar regios.',\n",
       " 'these currets help to moderate the differeces i temperature betwee witer ad summer i the temperate zoes.',\n",
       " 'also without the redistributios of heat eergy by the ocea currets ad atmosphere the tropics would be much hotter ad the polar regios much colder.',\n",
       " 'weather ca have both beeficial ad harmful effects.',\n",
       " 'extremes i weather such as toradoes or hurricaes ad cycloes ca exped large amouts of eergy alog their paths ad produce devastatio.',\n",
       " 'surface vegetatio has evolved a depedece o the seasoal variatio of the weather ad sudde chages lastig oly a few years ca have a dramatic effect both o the vegetatio ad o the aimals which deped o its growth for their food.',\n",
       " 'climate is a measure of the log-term treds i the weather.',\n",
       " \"various factors are kow to ifluece the climate icludig ocea currets surface albedo greehouse gases variatios i the solar lumiosity ad chages to the earth's orbit.\",\n",
       " 'based o historical records the earth is kow to have udergoe drastic climate chages i the past icludig ice ages.',\n",
       " 'the climate of a regio depeds o a umber of factors especially latitude.',\n",
       " 'a latitudial bad of the surface with similar climatic attributes forms a climate regio.',\n",
       " 'there are a umber of such regios ragig from the tropical climate at the equator to the polar climate i the orther ad souther extremes.',\n",
       " \"weather is also iflueced by the seasos which result from the earth's axis beig tilted relative to its orbital plae.\",\n",
       " 'thus at ay give time durig the summer or witer oe part of the earth is more directly exposed to the rays of the su.',\n",
       " 'this exposure alterates as the earth revolves i its orbit.',\n",
       " 'at ay give time regardless of seaso the orther ad souther hemispheres experiece opposite seasos.',\n",
       " 'weather is a chaotic system that is readily modified by small chages to the eviromet so accurate weather forecastig is limited to oly a few days.',\n",
       " ' overall two thigs are happeig worldwide  temperature is icreasig o the average ad  regioal climates have bee udergoig oticeable chages.',\n",
       " ' water is a chemical substace that is composed of hydroge ad oxyge ho ad is vital for all kow forms of life.',\n",
       " ' i typical usage water refers oly to its liquid form or state but the substace also has a solid state ice ad a gaseous state water vapor or steam.',\n",
       " \"water covers  of the earth's surface.\",\n",
       " ' o earth it is foud mostly i oceas ad other large bodies of water with . of water below groud i aquifers ad . i the air as vapor clouds ad precipitatio.',\n",
       " ' oceas hold  of surface water glaciers ad polar ice caps . ad other lad surface water such as rivers lakes ad pods ..',\n",
       " \"additioally a miute amout of the earth's water is cotaied withi biological bodies ad maufactured products.\",\n",
       " 'a ocea is a major body of salie water ad a pricipal compoet of the hydrosphere.',\n",
       " \"approximately  of the earth's surface a area of some  millio square kilometers is covered by ocea a cotiuous body of water that is customarily divided ito several pricipal oceas ad smaller seas.\",\n",
       " 'more tha half of this area is over  meters  feet deep.',\n",
       " 'average oceaic saliity is aroud  parts per thousad ppt . ad early all seawater has a saliity i the rage of  to  ppt.',\n",
       " \"though geerally recogized as several 'separate' oceas these waters comprise oe global itercoected body of salt water ofte referred to as the world ocea or global ocea.\",\n",
       " ' this cocept of a global ocea as a cotiuous body of water with relatively free iterchage amog its parts is of fudametal importace to oceaography.',\n",
       " ' the major oceaic divisios are defied i part by the cotiets various archipelagos ad other criteria these divisios are i descedig order of size the pacific ocea the atlatic ocea the idia ocea the souther ocea ad the arctic ocea.',\n",
       " 'smaller regios of the oceas are called seas gulfs bays ad other ames.',\n",
       " 'there are also salt lakes which are smaller bodies of ladlocked saltwater that are ot itercoected with the world ocea.',\n",
       " 'two otable examples of salt lakes are the aral sea ad the great salt lake.',\n",
       " 'a lake from lati word lacus is a terrai feature or physical feature a body of liquid o the surface of a world that is localized to the bottom of basi aother type of ladform or terrai feature that is it is ot global ad moves slowly if it moves at all.',\n",
       " 'o earth a body of water is cosidered a lake whe it is ilad ot part of the ocea is larger ad deeper tha a pod ad is fed by a river.',\n",
       " \" the oly world other tha earth kow to harbor lakes is tita satur's largest moo which has lakes of ethae most likely mixed with methae.\",\n",
       " \"it is ot kow if tita's lakes are fed by rivers though tita's surface is carved by umerous river beds.\",\n",
       " 'natural lakes o earth are geerally foud i moutaious areas rift zoes ad areas with ogoig or recet glaciatio.',\n",
       " 'other lakes are foud i edorheic basis or alog the courses of mature rivers.',\n",
       " 'i some parts of the world there are may lakes because of chaotic draiage patters left over from the last ice age.',\n",
       " 'all lakes are temporary over geologic time scales as they will slowly fill i with sedimets or spill out of the basi cotaiig them.',\n",
       " 'a pod is a body of stadig water either atural or ma-made that is usually smaller tha a lake.',\n",
       " 'a wide variety of ma-made bodies of water are classified as pods icludig water gardes desiged for aesthetic orametatio fish pods desiged for commercial fish breedig ad solar pods desiged to store thermal eergy.',\n",
       " 'pods ad lakes are distiguished from streams via curret speed.',\n",
       " 'while currets i streams are easily observed pods ad lakes possess thermally drive micro-currets ad moderate wid drive currets.',\n",
       " 'these features distiguish a pod from may other aquatic terrai features such as stream pools ad tide pools.',\n",
       " 'a river is a atural watercourse usually freshwater flowig towards a ocea a lake a sea or aother river.',\n",
       " 'i a few cases a river simply flows ito the groud or dries up completely before reachig aother body of water.',\n",
       " 'small rivers may also be called by several other ames icludig stream creek brook rivulet ad rill there is o geeral rule that defies what ca be called a river.',\n",
       " 'may ames for small rivers are specific to geographic locatio oe example is bur i scotlad ad north-east eglad.',\n",
       " 'sometimes a river is said to be larger tha a creek but this is ot always the case due to vagueess i the laguage.',\n",
       " ' a river is part of the hydrological cycle.',\n",
       " 'water withi a river is geerally collected from precipitatio through surface ruoff groudwater recharge sprigs ad the release of stored water i atural ice ad sowpacks i.e. from glaciers.',\n",
       " 'a stream is a flowig body of water with a curret cofied withi a bed ad stream baks.',\n",
       " 'i the uited states a stream is classified as a watercourse less tha  feet  metres wide.',\n",
       " 'streams are importat as coduits i the water cycle istrumets i groudwater recharge ad they serve as corridors for fish ad wildlife migratio.',\n",
       " 'the biological habitat i the immediate viciity of a stream is called a riparia zoe.',\n",
       " 'give the status of the ogoig holocee extictio streams play a importat corridor role i coectig fragmeted habitats ad thus i coservig biodiversity.',\n",
       " 'the study of streams ad waterways i geeral ivolves may braches of iter-discipliary atural sciece ad egieerig icludig hydrology fluvial geomorphology aquatic ecology fish biology riparia ecology ad others.',\n",
       " 'ecosystems are composed of a variety of biotic ad abiotic compoets that fuctio i a iterrelated way.',\n",
       " ' the structure ad compositio is determied by various evirometal factors that are iterrelated.',\n",
       " 'variatios of these factors will iitiate dyamic modificatios to the ecosystem.',\n",
       " 'some of the more importat compoets are soil atmosphere radiatio from the su water ad livig orgaisms.',\n",
       " 'cetral to the ecosystem cocept is the idea that livig orgaisms iteract with every other elemet i their local eviromet.',\n",
       " 'eugee odum a fouder of ecology stated ay uit that icludes all of the orgaisms ie the commuity i a give area iteractig with the physical eviromet so that a flow of eergy leads to clearly defied trophic structure biotic diversity ad material cycles i.e.',\n",
       " ' exchage of materials betwee livig ad olivig parts withi the system is a ecosystem.',\n",
       " ' withi the ecosystem species are coected ad depedet upo oe aother i the food chai ad exchage eergy ad matter betwee themselves as well as with their eviromet.',\n",
       " ' the huma ecosystem cocept is based o the huma/ature dichotomy ad the idea that all species are ecologically depedet o each other as well as with the abiotic costituets of their biotope.',\n",
       " ' a smaller uit of size is called a microecosystem.',\n",
       " 'for example a microsystem ca be a stoe ad all the life uder it.',\n",
       " 'a macroecosystem might ivolve a whole ecoregio with its draiage basi.',\n",
       " ' wilderess is geerally defied as areas that have ot bee sigificatly modified by huma activity.',\n",
       " 'wilderess areas ca be foud i preserves estates farms coservatio preserves raches atioal forests atioal parks ad eve i urba areas alog rivers gulches or otherwise udeveloped areas.',\n",
       " 'wilderess areas ad protected parks are cosidered importat for the survival of certai species ecological studies coservatio ad solitude.',\n",
       " \"some ature writers believe wilderess areas are vital for the huma spirit ad creativity ad some ecologists cosider wilderess areas to be a itegral part of the earth's self-sustaiig atural ecosystem the biosphere.\",\n",
       " 'they may also preserve historic geetic traits ad that they provide habitat for wild flora ad faua that may be difficult or impossible to recreate i zoos arboretums or laboratories.',\n",
       " 'although there is o uiversal agreemet o the defiitio of life scietists geerally accept that the biological maifestatio of life is characterized by orgaizatio metabolism growth adaptatio respose to stimuli ad reproductio.',\n",
       " ' life may also be said to be simply the characteristic state of orgaisms.',\n",
       " 'properties commo to terrestrial orgaisms plats aimals fugi protists archaea ad bacteria are that they are cellular carbo-ad-water-based with complex orgaizatio havig a metabolism a capacity to grow respod to stimuli ad reproduce.',\n",
       " 'a etity with these properties is geerally cosidered life.',\n",
       " 'however ot every defiitio of life cosiders all of these properties to be essetial.',\n",
       " 'huma-made aalogs of life may also be cosidered to be life.',\n",
       " \"the biosphere is the part of earth's outer shell—icludig lad surface rocks water air ad the atmosphere—withi which life occurs ad which biotic processes i tur alter or trasform.\",\n",
       " 'from the broadest geophysiological poit of view the biosphere is the global ecological system itegratig all livig beigs ad their relatioships icludig their iteractio with the elemets of the lithosphere rocks hydrosphere water ad atmosphere air.',\n",
       " 'the etire earth cotais over \\xa0billio tos  trillio pouds or about .×\\xa0kilograms of biomass life which lives withi various eviromets withi the biosphere.',\n",
       " ' over ie-teths of the total biomass o earth is plat life o which aimal life depeds very heavily for its existece.',\n",
       " ' more tha  millio species of plat ad aimal life have bee idetified to date ad estimates of the actual umber of existig species rage from several millio to well over \\xa0millio.',\n",
       " ' the umber of idividual species of life is costatly i some degree of flux with ew species appearig ad others ceasig to exist o a cotiual basis.',\n",
       " ' the total umber of species is i rapid declie.',\n",
       " ' the origi of life o earth is ot well uderstood but it is kow to have occurred at least .\\xa0billio years ago durig the hadea or archea eos o a primordial earth that had a substatially differet eviromet tha is foud at preset.',\n",
       " ' these life forms possessed the basic traits of self-replicatio ad iheritable traits.',\n",
       " 'oce life had appeared the process of evolutio by atural selectio resulted i the developmet of ever-more diverse life forms.',\n",
       " 'species that were uable to adapt to the chagig eviromet ad competitio from other life forms became extict.',\n",
       " 'however the fossil record retais evidece of may of these older species.',\n",
       " 'curret fossil ad dna evidece shows that all existig species ca trace a cotiual acestry back to the first primitive life forms.',\n",
       " \" whe basic forms of plat life developed the process of photosythesis the su's eergy could be harvested to create coditios which allowed for more complex life forms.\",\n",
       " ' the resultat oxyge accumulated i the atmosphere ad gave rise to the ozoe layer.',\n",
       " 'the icorporatio of smaller cells withi larger oes resulted i the developmet of yet more complex cells called eukaryotes.',\n",
       " ' cells withi coloies became icreasigly specialized resultig i true multicellular orgaisms.',\n",
       " 'with the ozoe layer absorbig harmful ultraviolet radiatio life coloized the surface of earth.',\n",
       " 'the first form of life to develop o the earth were microbes ad they remaied the oly form of life util about a billio years ago whe multi-cellular orgaisms bega to appear.',\n",
       " ' microorgaisms are sigle-celled orgaisms that are geerally microscopic ad smaller tha the huma eye ca see.',\n",
       " 'they iclude bacteria fugi archaea ad protista.',\n",
       " \"these life forms are foud i almost every locatio o the earth where there is liquid water icludig i the earth's iterior.\",\n",
       " '\\ntheir reproductio is both rapid ad profuse.',\n",
       " 'the combiatio of a high mutatio rate ad a horizotal gee trasfer ability makes them highly adaptable ad able to survive i ew eviromets icludig outer space.',\n",
       " ' they form a essetial part of the plaetary ecosystem.',\n",
       " 'however some microorgaisms are pathogeic ad ca post health risk to other orgaisms.',\n",
       " 'origially aristotle divided all livig thigs betwee plats which geerally do ot move fast eough for humas to otice ad aimals.',\n",
       " \"i liaeus' system these became the kigdoms vegetabilia later platae ad aimalia.\",\n",
       " 'sice the it has become clear that the platae as origially defied icluded several urelated groups ad the fugi ad several groups of algae were removed to ew kigdoms.',\n",
       " 'however these are still ofte cosidered plats i may cotexts.',\n",
       " 'bacterial life is sometimes icluded i flora ad some classificatios use the term bacterial flora separately from plat flora.',\n",
       " 'amog the may ways of classifyig plats are by regioal floras which depedig o the purpose of study ca also iclude fossil flora remats of plat life from a previous era.',\n",
       " 'people i may regios ad coutries take great pride i their idividual arrays of characteristic flora which ca vary widely across the globe due to differeces i climate ad terrai.',\n",
       " 'regioal floras commoly are divided ito categories such as ative flora ad agricultural ad garde flora the lastly metioed of which are itetioally grow ad cultivated.',\n",
       " 'some types of ative flora actually have bee itroduced ceturies ago by people migratig from oe regio or cotiet to aother ad become a itegral part of the ative or atural flora of the place to which they were itroduced.',\n",
       " 'this is a example of how huma iteractio with ature ca blur the boudary of what is cosidered ature.',\n",
       " 'aother category of plat has historically bee carved out for weeds.',\n",
       " 'though the term has falle ito disfavor amog botaists as a formal way to categorize useless plats the iformal use of the word weeds to describe those plats that are deemed worthy of elimiatio is illustrative of the geeral tedecy of people ad societies to seek to alter or shape the course of ature.',\n",
       " 'similarly aimals are ofte categorized i ways such as domestic farm aimals wild aimals pests etc.',\n",
       " 'accordig to their relatioship to huma life.',\n",
       " 'aimals as a category have several characteristics that geerally set them apart from other livig thigs.',\n",
       " 'aimals are eukaryotic ad usually multicellular although see myxozoa which separates them from bacteria archaea ad most protists.',\n",
       " 'they are heterotrophic geerally digestig food i a iteral chamber which separates them from plats ad algae.',\n",
       " 'they are also distiguished from plats algae ad fugi by lackig cell walls.',\n",
       " 'with a few exceptios—most otably the two phyla cosistig of spoges ad placozoas—aimals have bodies that are differetiated ito tissues.',\n",
       " 'these iclude muscles which are able to cotract ad cotrol locomotio ad a ervous system which seds ad processes sigals.',\n",
       " 'there is also typically a iteral digestive chamber.',\n",
       " 'the eukaryotic cells possessed by all aimals are surrouded by a characteristic extracellular matrix composed of collage ad elastic glycoproteis.',\n",
       " 'this may be calcified to form structures like shells boes ad spicules a framework upo which cells ca move about ad be reorgaized durig developmet ad maturatio ad which supports the complex aatomy required for mobility.',\n",
       " 'although humas comprise oly a miuscule proportio of the total livig biomass o earth the huma effect o ature is disproportioately large.',\n",
       " 'because of the extet of huma ifluece the boudaries betwee what humas regard as ature ad made eviromets is ot clear cut except at the extremes.',\n",
       " 'eve at the extremes the amout of atural eviromet that is free of discerible huma ifluece is dimiishig at a icreasigly rapid pace.',\n",
       " 'the developmet of techology by the huma race has allowed the greater exploitatio of atural resources ad has helped to alleviate some of the risk from atural hazards.',\n",
       " 'i spite of this progress however the fate of huma civilizatio remais closely liked to chages i the eviromet.',\n",
       " 'there exists a highly complex feedback loop betwee the use of advaced techology ad chages to the eviromet that are oly slowly becomig uderstood.',\n",
       " \" ma-made threats to the earth's atural eviromet iclude pollutio deforestatio ad disasters such as oil spills.\",\n",
       " 'humas have cotributed to the extictio of may plats ad aimals.',\n",
       " 'humas employ ature for both leisure ad ecoomic activities.',\n",
       " \"the acquisitio of atural resources for idustrial use remais a sizable compoet of the world's ecoomic system.\",\n",
       " ' some activities such as hutig ad fishig are used for both susteace ad leisure ofte by differet people.',\n",
       " 'agriculture was first adopted aroud the th milleium bce.',\n",
       " 'ragig from food productio to eergy ature iflueces ecoomic wealth.',\n",
       " 'although early humas gathered ucultivated plat materials for food ad employed the medicial properties of vegetatio for healig most moder huma use of plats is through agriculture.',\n",
       " 'the clearace of large tracts of lad for crop growth has led to a sigificat reductio i the amout available of forestatio ad wetlads resultig i the loss of habitat for may plat ad aimal species as well as icreased erosio.',\n",
       " ' beauty i ature has historically bee a prevalet theme i art ad books fillig large sectios of libraries ad bookstores.',\n",
       " 'that ature has bee depicted ad celebrated by so much art photography poetry ad other literature shows the stregth with which may people associate ature ad beauty.',\n",
       " 'reasos why this associatio exists ad what the associatio cosists of are studied by the brach of philosophy called aesthetics.',\n",
       " 'beyod certai basic characteristics that may philosophers agree about to explai what is see as beautiful the opiios are virtually edless.',\n",
       " ' nature ad wildess have bee importat subjects i various eras of world history.',\n",
       " 'a early traditio of ladscape art bega i chia durig the tag dyasty –.',\n",
       " 'the traditio of represetig ature as it is became oe of the aims of chiese paitig ad was a sigificat ifluece i asia art.',\n",
       " 'although atural woders are celebrated i the psalms ad the book of job wilderess portrayals i art became more prevalet i the s especially i the works of the romatic movemet.',\n",
       " 'british artists joh costable ad j. m. w. turer tured their attetio to capturig the beauty of the atural world i their paitigs.',\n",
       " 'before that paitigs had bee primarily of religious scees or of huma beigs.',\n",
       " \"william wordsworth's poetry described the woder of the atural world which had formerly bee viewed as a threateig place.\",\n",
       " 'icreasigly the valuig of ature became a aspect of wester culture.',\n",
       " ' this artistic movemet also coicided with the trascedetalist movemet i the wester world.',\n",
       " 'a commo classical idea of beautiful art ivolves the word mimesis the imitatio of ature.',\n",
       " 'also i the realm of ideas about beauty i ature is that the perfect is implied through perfect mathematical forms ad more geerally by patters i ature.',\n",
       " 'as david rotheburg writes the beautiful is the root of sciece ad the goal of art the highest possibility that humaity ca ever hope to see.',\n",
       " ' some fields of sciece see ature as matter i motio obeyig certai laws of ature which sciece seeks to uderstad.',\n",
       " 'for this reaso the most fudametal sciece is geerally uderstood to be physics—the ame for which is still recogizable as meaig that it is the study of ature.',\n",
       " 'matter is commoly defied as the substace of which physical objects are composed.',\n",
       " 'it costitutes the observable uiverse.',\n",
       " 'the visible compoets of the uiverse are ow believed to compose oly . percet of the total mass.',\n",
       " 'the remaider is believed to cosist of . percet cold dark matter ad . percet dark eergy.',\n",
       " ' the exact arragemet of these compoets is still ukow ad is uder itesive ivestigatio by physicists.',\n",
       " 'the behaviour of matter ad eergy throughout the observable uiverse appears to follow well-defied physical laws.',\n",
       " 'these laws have bee employed to produce cosmological models that successfully explai the structure ad the evolutio of the uiverse we ca observe.',\n",
       " 'the mathematical expressios of the laws of physics employ a set of twety physical costats that appear to be static across the observable uiverse.',\n",
       " ' the values of these costats have bee carefully measured but the reaso for their specific values remais a mystery.',\n",
       " 'outer space also simply called space refers to the relatively empty regios of the uiverse outside the atmospheres of celestial bodies.',\n",
       " 'outer space is used to distiguish it from airspace ad terrestrial locatios.',\n",
       " \"there is o discrete boudary betwee earth's atmosphere ad space as the atmosphere gradually atteuates with icreasig altitude.\",\n",
       " 'outer space withi the solar system is called iterplaetary space which passes over ito iterstellar space at what is kow as the heliopause.',\n",
       " 'outer space is sparsely filled with several doze types of orgaic molecules discovered to date by microwave spectroscopy blackbody radiatio left over from the big bag ad the origi of the uiverse ad cosmic rays which iclude ioized atomic uclei ad various subatomic particles.',\n",
       " 'there is also some gas plasma ad dust ad small meteors.',\n",
       " 'additioally there are sigs of huma life i outer space today such as material left over from previous maed ad umaed lauches which are a potetial hazard to spacecraft.',\n",
       " 'some of this debris re-eters the atmosphere periodically.',\n",
       " 'although earth is the oly body withi the solar system kow to support life evidece suggests that i the distat past the plaet mars possessed bodies of liquid water o the surface.',\n",
       " \" for a brief period i mars' history it may have also bee capable of formig life.\",\n",
       " 'at preset though most of the water remaiig o mars is froze.',\n",
       " 'if life exists at all o mars it is most likely to be located udergroud where liquid water ca still exist.',\n",
       " ' coditios o the other terrestrial plaets mercury ad veus appear to be too harsh to support life as we kow it.',\n",
       " 'but it has bee cojectured that europa the fourth-largest moo of jupiter may possess a sub-surface ocea of liquid water ad could potetially host life.',\n",
       " ' astroomers have started to discover extrasolar earth aalogs – plaets that lie i the habitable zoe of space surroudig a star ad therefore could possibly host life as we kow it.',\n",
       " ' media orgaizatios philosophy   wikipedia /ˌwɪkɪˈpiːdiə/ liste wik-ih-pee-dee-ə or /ˌwɪki-/ liste wik-ee- is a multiligual ope-collaborative olie ecyclopedia created ad maitaied by a commuity of voluteer editors usig a wiki-based editig system.',\n",
       " 'it is oe of the  most popular websites as raked by alexa as of jauary\\xa0[update] ad the ecoomist ewspaper placed it as the th-most-visited place o the web.',\n",
       " ' featurig o advertisemets it is hosted by the wikimedia foudatio a america o-profit orgaizatio fuded primarily through doatios.',\n",
       " 'wikipedia was lauched o jauary   by jimmy wales ad larry sager.',\n",
       " 'sager coied its ame as a portmateau of wiki ad ecyclopedia.',\n",
       " 'it was iitially a eglish-laguage ecyclopedia but versios i other laguages were quickly developed.',\n",
       " 'with .\\xa0millio articles the eglish wikipedia is the largest of the  wikipedia ecyclopedias.',\n",
       " 'overall wikipedia comprises more tha \\xa0millio articles attractig .\\xa0billio uique visitors per moth.',\n",
       " ' wikipedia has bee criticized for its ueve accuracy ad for exhibitig systemic bias icludig geder bias with the majority of editors beig male.',\n",
       " \" edit-a-thos have bee held to ecourage female editors ad icrease the coverage of wome's topics.\",\n",
       " ' i  time magazie stated that the ope-door policy of allowig ayoe to edit had made wikipedia the biggest ad possibly the best ecyclopedia i the world ad was a testamet to the visio of jimmy wales.',\n",
       " \" the project's reputatio improved further i the s as it icreased efforts to improve its quality ad reliability based o its uique structure curatio ad absece of commercial bias.\",\n",
       " ' i  facebook ad youtube aouced that they would help users detect fake ews by suggestig liks to related wikipedia articles.',\n",
       " ' other collaborative olie ecyclopedias were attempted before wikipedia but oe were as successful.',\n",
       " ' wikipedia bega as a complemetary project for nupedia a free olie eglish-laguage ecyclopedia project whose articles were writte by experts ad reviewed uder a formal process.',\n",
       " ' it was fouded o march   uder the owership of bomis a web portal compay.',\n",
       " 'its mai figures were bomis ceo jimmy wales ad larry sager editor-i-chief for nupedia ad later wikipedia.',\n",
       " ' nupedia was iitially licesed uder its ow nupedia ope cotet licese but eve before wikipedia was fouded nupedia switched to the gnu free documetatio licese at the urgig of richard stallma.',\n",
       " ' wales is credited with defiig the goal of makig a publicly editable ecyclopedia while sager is credited with the strategy of usig a wiki to reach that goal.',\n",
       " ' o jauary   sager proposed o the nupedia mailig list to create a wiki as a feeder project for nupedia.',\n",
       " ' the domais wikipedia.com ad wikipedia.org were registered o jauary   ad jauary   respectively ad wikipedia was lauched o jauary   as a sigle eglish-laguage editio at www.wikipedia.com ad aouced by sager o the nupedia mailig list.',\n",
       " \" wikipedia's policy of eutral poit-of-view was codified i its first few moths.\",\n",
       " 'otherwise there were relatively few rules iitially ad wikipedia operated idepedetly of nupedia.',\n",
       " ' origially bomis iteded to make wikipedia a busiess for profit.',\n",
       " ' wikipedia gaied early cotributors from nupedia slashdot postigs ad web search egie idexig.',\n",
       " 'laguage editios were also created with a total of  by the ed of .',\n",
       " \" nupedia ad wikipedia coexisted util the former's servers were take dow permaetly i  ad its text was icorporated ito wikipedia.\",\n",
       " 'the eglish wikipedia passed the mark of two millio articles o september   makig it the largest ecyclopedia ever assembled surpassig the yogle ecyclopedia made durig the mig dyasty i  which had held the record for almost \\xa0years.',\n",
       " ' citig fears of commercial advertisig ad lack of cotrol i wikipedia users of the spaish wikipedia forked from wikipedia to create the eciclopedia libre i february .',\n",
       " \" wales the aouced that wikipedia would ot display advertisemets ad chaged wikipedia's domai from wikipedia.com to wikipedia.org.\",\n",
       " ' though the eglish wikipedia reached three millio articles i august  the growth of the editio i terms of the umbers of ew articles ad of cotributors appears to have peaked aroud early .',\n",
       " ' aroud  articles were added daily to the ecyclopedia i  by  that average was roughly .',\n",
       " \" a team at the palo alto research ceter attributed this slowig of growth to the project's icreasig exclusivity ad resistace to chage.\",\n",
       " ' others suggest that the growth is flatteig aturally because articles that could be called low-hagig fruit—topics that clearly merit a article—have already bee created ad built up extesively.',\n",
       " '  i november  a researcher at the rey jua carlos uiversity i madrid foud that the eglish wikipedia had lost  editors durig the first three moths of  i compariso the project lost oly  editors durig the same period i .',\n",
       " ' the wall street joural cited the array of rules applied to editig ad disputes related to such cotet amog the reasos for this tred.',\n",
       " ' wales disputed these claims i  deyig the declie ad questioig the methodology of the study.',\n",
       " ' two years later i  wales ackowledged the presece of a slight declie otig a decrease from a little more tha  writers i jue  to  i jue .',\n",
       " 'i the same iterview wales also claimed the umber of editors was stable ad sustaiable.',\n",
       " ' a  article titled the declie of wikipedia i mit techology review questioed this claim.',\n",
       " 'the article revealed that sice  wikipedia had lost a third of its voluteer editors ad those still there have focused icreasigly o miutiae.',\n",
       " ' i july  the atlatic reported that the umber of admiistrators is also i declie.',\n",
       " ' i the november   issue of new york magazie katherie ward stated wikipedia the sixth-most-used website is facig a iteral crisis.',\n",
       " ' i jauary  wikipedia etered for the first time the top-te list of the most popular websites i the us accordig to comscore networks.',\n",
       " 'with .\\xa0millio uique visitors wikipedia was raked umber  surpassig the new york times  ad apple .',\n",
       " 'this marked a sigificat icrease over jauary  whe the rak was umber  with wikipedia receivig aroud .\\xa0millio uique visitors.',\n",
       " ' as of march\\xa0[update] wikipedia has rak  amog websites i terms of popularity accordig to alexa iteret.',\n",
       " 'i  it received eight billio page views every moth.',\n",
       " ' o february   the new york times reported that wikipedia has \\xa0billio page views ad early \\xa0millio uique visitors a moth accordig to the ratigs firm comscore.',\n",
       " ' lovelad ad reagle argue that i process wikipedia follows a log traditio of historical ecyclopedias that accumulated improvemets piecemeal through stigmergic accumulatio.',\n",
       " '  o jauary   the eglish wikipedia participated i a series of coordiated protests agaist two proposed laws i the uited states cogress—the stop olie piracy act sopa ad the protect ip act pipa—by blackig out its pages for  hours.',\n",
       " ' more tha \\xa0millio people viewed the blackout explaatio page that temporarily replaced wikipedia cotet.',\n",
       " \" o jauary   subodh varma reportig for the ecoomic times idicated that ot oly had wikipedia's growth stalled it had lost early te percet of its page views last year.\",\n",
       " 'there was a declie of about two billio betwee december  ad december .',\n",
       " 'its most popular versios are leadig the slide page-views of the eglish wikipedia declied by twelve percet those of germa versio slid by  percet ad the japaese versio lost ie percet.',\n",
       " \" varma added that while wikipedia's maagers thik that this could be due to errors i coutig other experts feel that google's kowledge graphs project lauched last year may be gobblig up wikipedia users.\",\n",
       " \" whe cotacted o this matter clay shirky associate professor at new york uiversity ad fellow at harvard's berkma klei ceter for iteret & society idicated that he suspected much of the page view declie was due to kowledge graphs statig if you ca get your questio aswered from the search page you do't eed to click [ay further].\",\n",
       " ' by the ed of december  wikipedia was raked fifth i the most popular websites globally.',\n",
       " ' i jauary   wikipedia a asteroid was amed after wikipedia i october  wikipedia was hoored with the wikipedia moumet ad i july   of the  -page volumes of wikipedia became available as prit wikipedia.',\n",
       " 'i april  a israeli luar lader beresheet crash laded o the surface of the moo carryig a copy of early all of the eglish wikipedia egraved o thi ickel plates experts say the plates likely survived the crash.',\n",
       " ' i jue  scietists reported that all \\xa0gb of article text from the eglish wikipedia have bee ecoded ito sythetic dna.',\n",
       " ' ulike traditioal ecyclopedias wikipedia follows the procrastiatio priciple[ote ] regardig the security of its cotet.',\n",
       " ' it started almost etirely ope—ayoe could create articles ad ay wikipedia article could be edited by ay reader eve those who did ot have a wikipedia accout.',\n",
       " 'modificatios to all articles would be published immediately.',\n",
       " 'as a result ay article could cotai iaccuracies such as errors ideological biases ad osesical or irrelevat text.',\n",
       " 'due to the icreasig popularity of wikipedia some editios icludig the eglish versio have itroduced editig restrictios for certai cases.',\n",
       " 'for istace o the eglish wikipedia ad some other laguage editios oly registered users may create a ew article.',\n",
       " ' o the eglish wikipedia amog others particularly cotroversial sesitive or vadalism-proe pages have bee protected to varyig degrees.',\n",
       " ' a frequetly vadalized article ca be semi-protected or exteded cofirmed protected meaig that oly autocofirmed or exteded cofirmed editors are able to modify it.',\n",
       " ' a particularly cotetious article may be locked so that oly admiistrators are able to make chages.',\n",
       " \" a  article i the columbia jouralism review idetified wikipedia's page protectio policies as [p]erhaps the most importat meas at wikipedia's disposal to regulate its market of ideas.\",\n",
       " ' i certai cases all editors are allowed to submit modificatios but review is required for some editors depedig o certai coditios.',\n",
       " 'for example the germa wikipedia maitais stable versios of articles which have passed certai reviews.',\n",
       " 'followig protracted trials ad commuity discussio the eglish wikipedia itroduced the pedig chages system i december .',\n",
       " \" uder this system ew ad uregistered users' edits to certai cotroversial or vadalism-proe articles are reviewed by established users before they are published.\",\n",
       " ' although chages are ot systematically reviewed the software that powers wikipedia provides tools allowig ayoe to review chages made by others.',\n",
       " 'the history page of each article liks to each revisio.',\n",
       " \"[ote ] o most articles ayoe ca udo others' chages by clickig a lik o the article's history page.\",\n",
       " 'ayoe ca view the latest chages to articles ad ayoe may maitai a watchlist of articles that iterest them so they ca be otified of ay chages.',\n",
       " 'new pages patrol is a process whereby ewly created articles are checked for obvious problems.',\n",
       " ' i  ecoomics ph.d. studet adrea ciffolilli argued that the low trasactio costs of participatig i a wiki create a catalyst for collaborative developmet ad that features such as allowig easy access to past versios of a page favor creative costructio over creative destructio.',\n",
       " ' ay chage or edit that maipulates cotet i a way that purposefully compromises the itegrity of wikipedia is cosidered vadalism.',\n",
       " 'the most commo ad obvious types of vadalism iclude additios of obsceities ad crude humor.',\n",
       " 'vadalism ca also iclude advertisig ad other types of spam.',\n",
       " ' sometimes editors commit vadalism by removig cotet or etirely blakig a give page.',\n",
       " 'less commo types of vadalism such as the deliberate additio of plausible but false iformatio to a article ca be more difficult to detect.',\n",
       " \"vadals ca itroduce irrelevat formattig modify page sematics such as the page's title or categorizatio maipulate the uderlyig code of a article or use images disruptively.\",\n",
       " ' obvious vadalism is geerally easy to remove from wikipedia articles the media time to detect ad fix vadalism is a few miutes.',\n",
       " ' however some vadalism takes much loger to repair.',\n",
       " ' i the seigethaler biography icidet a aoymous editor itroduced false iformatio ito the biography of america political figure joh seigethaler i may .',\n",
       " 'seigethaler was falsely preseted as a suspect i the assassiatio of joh f.',\n",
       " 'keedy.',\n",
       " ' the article remaied ucorrected for four moths.',\n",
       " ' seigethaler the foudig editorial director of usa today ad fouder of the freedom forum first amedmet ceter at vaderbilt uiversity called wikipedia co-fouder jimmy wales ad asked whether he had ay way of kowig who cotributed the misiformatio.',\n",
       " 'wales replied that he did ot although the perpetrator was evetually traced.',\n",
       " ' after the icidet seigethaler described wikipedia as a flawed ad irresposible research tool.',\n",
       " ' this icidet led to policy chages at wikipedia specifically targeted at tighteig up the verifiability of biographical articles of livig people.',\n",
       " \" i  daiel tosh ecouraged viewers of his show tosh. to visit the show's wikipedia article ad edit it at will.\",\n",
       " 'o a later episode he commeted o the edits to the article most of them offesive which had bee made by the audiece ad had prompted the article to be locked from editig.',\n",
       " ' wikipedias ofte have disputes regardig cotet which may result i repeatedly makig opposite chages to a article kow as edit warrig.',\n",
       " ' the process is widely see as a resource-cosumig sceario where o useful kowledge is added.',\n",
       " ' this practice is also criticized as creatig a competitive coflict based editig culture associated with traditioal masculie geder roles which cotributes to the geder bias o wikipedia.',\n",
       " 'special iterest groups have egaged i edit wars to advace their ow political iterests.',\n",
       " \"cotet i wikipedia is subject to the laws i particular copyright laws of the uited states ad of the us state of virgiia where the majority of wikipedia's servers are located.\",\n",
       " 'beyod legal matters the editorial priciples of wikipedia are embodied i the five pillars ad i umerous policies ad guidelies iteded to appropriately shape cotet.',\n",
       " \"eve these rules are stored i wiki form ad wikipedia editors write ad revise the website's policies ad guidelies.\",\n",
       " ' editors ca eforce these rules by deletig or modifyig o-compliat material.',\n",
       " 'origially rules o the o-eglish editios of wikipedia were based o a traslatio of the rules for the eglish wikipedia.',\n",
       " 'they have sice diverged to some extet.',\n",
       " ' accordig to the rules o the eglish wikipedia each etry i wikipedia must be about a topic that is ecyclopedic ad is ot a dictioary etry or dictioary-style.',\n",
       " \" a topic should also meet wikipedia's stadards of otability which geerally meas that the topic must have bee covered i maistream media or major academic joural sources that are idepedet of the article's subject.\",\n",
       " 'further wikipedia iteds to covey oly kowledge that is already established ad recogized.',\n",
       " ' it must ot preset origial research.',\n",
       " 'a claim that is likely to be challeged requires a referece to a reliable source.',\n",
       " 'amog wikipedia editors this is ofte phrased as verifiability ot truth to express the idea that the readers ot the ecyclopedia are ultimately resposible for checkig the truthfuless of the articles ad makig their ow iterpretatios.',\n",
       " ' this ca at times lead to the removal of iformatio that though valid is ot properly sourced.',\n",
       " ' fially wikipedia must ot take sides.',\n",
       " ' all opiios ad viewpoits if attributable to exteral sources must ejoy a appropriate share of coverage withi a article.',\n",
       " 'this is kow as a eutral poit of view npov.',\n",
       " \"wikipedia's iitial aarchy itegrated democratic ad hierarchical elemets over time.\",\n",
       " ' a article is ot cosidered to be owed by its creator or ay other editor or by the subject of the article.',\n",
       " ' editors i good stadig i the commuity ca ru for oe of may levels of voluteer stewardship this begis with admiistrator privileged users who ca delete pages prevet articles from beig chaged i case of vadalism or editorial disputes settig protective measures o articles ad try to prevet certai people from editig.',\n",
       " 'despite the ame admiistrators are ot supposed to ejoy ay special privilege i decisio-makig istead their powers are mostly limited to makig edits that have project-wide effects ad thus are disallowed to ordiary editors ad to implemet restrictios iteded to prevet certai persos from makig disruptive edits such as vadalism.',\n",
       " ' fewer editors become admiistrators tha i years past i part because the process of vettig potetial wikipedia admiistrators has become more rigorous.',\n",
       " ' bureaucrats ame ew admiistrators solely upo the recommedatios from the commuity.',\n",
       " 'over time wikipedia has developed a semi-formal dispute resolutio process to assist i such circumstaces.',\n",
       " 'to determie commuity cosesus editors ca raise issues at appropriate commuity forums[ote ] or seek outside iput through third opiio requests or by iitiatig a more geeral commuity discussio kow as a request for commet.',\n",
       " 'the arbitratio committee presides over the ultimate dispute resolutio process.',\n",
       " 'although disputes usually arise from a disagreemet betwee two opposig views o how a article should read the arbitratio committee explicitly refuses to directly rule o the specific view that should be adopted.',\n",
       " 'statistical aalyses suggest that the committee igores the cotet of disputes ad rather focuses o the way disputes are coducted fuctioig ot so much to resolve disputes ad make peace betwee coflictig editors but to weed out problematic editors while allowig potetially productive editors back i to participate.',\n",
       " 'therefore the committee does ot dictate the cotet of articles although it sometimes codems cotet chages whe it deems the ew cotet violates wikipedia policies for example if the ew cotet is cosidered biased.',\n",
       " 'its remedies iclude cautios ad probatios used i  of cases ad baig editors from articles  subject matters  or wikipedia .',\n",
       " 'complete bas from wikipedia are geerally limited to istaces of impersoatio ad ati-social behavior.',\n",
       " 'whe coduct is ot impersoatio or ati-social but rather ati-cosesus or i violatio of editig policies remedies ted to be limited to warigs.',\n",
       " ' each article ad each user of wikipedia has a associated talk page.',\n",
       " 'these form the primary commuicatio chael for editors to discuss coordiate ad debate.',\n",
       " \" wikipedia's commuity has bee described as cultlike although ot always with etirely egative cootatios.\",\n",
       " \" the project's preferece for cohesiveess eve if it requires compromise that icludes disregard of credetials has bee referred to as ati-elitism.\",\n",
       " ' wikipedias sometimes award oe aother virtual barstars for good work.',\n",
       " 'these persoalized tokes of appreciatio reveal a wide rage of valued work extedig far beyod simple editig to iclude social support admiistrative actios ad types of articulatio work.',\n",
       " ' wikipedia does ot require that its editors ad cotributors provide idetificatio.',\n",
       " ' as wikipedia grew who writes wikipedia',\n",
       " 'became oe of the questios frequetly asked o the project.',\n",
       " ' jimmy wales oce argued that oly a commuity\\xa0... a dedicated group of a few hudred voluteers makes the bulk of cotributios to wikipedia ad that the project is therefore much like ay traditioal orgaizatio.',\n",
       " \" i  a slate magazie article reported that accordig to researchers i palo alto oe percet of wikipedia users are resposible for about half of the site's edits.\",\n",
       " ' this method of evaluatig cotributios was later disputed by aaro swartz who oted that several articles he sampled had large portios of their cotet measured by umber of characters cotributed by users with low edit couts.',\n",
       " ' the eglish wikipedia has  articles  registered editors ad  active editors.',\n",
       " 'a editor is cosidered active if they have made oe or more edits i the past  days.',\n",
       " 'editors who fail to comply with wikipedia cultural rituals such as sigig talk page commets may implicitly sigal that they are wikipedia outsiders icreasig the odds that wikipedia isiders may target or discout their cotributios.',\n",
       " 'becomig a wikipedia isider ivolves o-trivial costs the cotributor is expected to lear wikipedia-specific techological codes submit to a sometimes covoluted dispute resolutio process ad lear a bafflig culture rich with i-jokes ad isider refereces.',\n",
       " ' editors who do ot log i are i some sese secod-class citizes o wikipedia as participats are accredited by members of the wiki commuity who have a vested iterest i preservig the quality of the work product o the basis of their ogoig participatio but the cotributio histories of aoymous uregistered editors recogized oly by their ip addresses caot be attributed to a particular editor with certaity.',\n",
       " 'a  study by researchers from dartmouth college foud that aoymous ad ifrequet cotributors to wikipedia [...] are as reliable a source of kowledge as those cotributors who register with the site.',\n",
       " ' jimmy wales stated i  that [i]t turs out over  of all the edits are doe by just . of the users\\xa0...  people\\xa0... ad i fact the most active  which is  people have doe . of all the edits.',\n",
       " ' however busiess isider editor ad jouralist hery blodget showed i  that i a radom sample of articles most cotet i wikipedia measured by the amout of cotributed text that survives to the latest sampled edit is created by outsiders while most editig ad formattig is doe by isiders.',\n",
       " ' a  study foud that wikipedias were less agreeable ope ad coscietious tha others although a later commetary poited out serious flaws icludig that the data showed higher opeess ad that the differeces with the cotrol group ad the samples were small.',\n",
       " ' accordig to a  study there is evidece of growig resistace from the wikipedia commuity to ew cotet.',\n",
       " ' several studies have show that most of the wikipedia cotributors are male.',\n",
       " 'notably the results of a wikimedia foudatio survey i  showed that oly  percet of wikipedia editors were female.',\n",
       " ' because of this uiversities throughout the uited states tried to ecourage females to become wikipedia cotributors.',\n",
       " 'similarly may of these uiversities icludig yale ad brow gave college credit to studets who create or edit a article relatig to wome i sciece or techology.',\n",
       " ' adrew lih a professor ad scietist wrote i the new york times that the reaso he thought the umber of male cotributors outumbered the umber of females so greatly was because idetifyig as a woma may expose oeself to ugly itimidatig behavior.',\n",
       " ' data has show that africas are uderrepreseted amog wikipedia editors.',\n",
       " ' there are curretly  laguage editios of wikipedia also called laguage versios or simply wikipedias.',\n",
       " 'as of jauary  the six largest i order of article cout are the eglish cebuao swedish germa frech ad dutch wikipedias.',\n",
       " ' the secod ad third largest wikipedias owe their positio to the article-creatig bot lsjbot which as of  had created about half the articles i the swedish wikipedia ad most of the articles i the cebuao ad waray wikipedias.',\n",
       " 'the latter are both laguages of the philippies.',\n",
       " 'i additio to the top six twelve other wikipedias have more tha a millio articles each russia italia spaish polish waray vietamese japaese egyptia arabic chiese arabic ukraiia ad portuguese seve more have over  articles persia catala serbia idoesia norwegia bokmål korea ad fiish  more have over  ad  more have over .',\n",
       " ' the largest the eglish wikipedia has over . millio articles.',\n",
       " \"as of jauary\\xa0[update] accordig to alexa the eglish subdomai e.wikipedia.org eglish wikipedia receives approximately  of wikipedia's cumulative traffic with the remaiig split amog the other laguages russia  chiese  japaese  spaish .\",\n",
       " ' distributio of the  articles i differet laguage editios as of jauary   the uit for the umbers i bars is articles.',\n",
       " 'sice wikipedia is based o the web ad therefore worldwide cotributors to the same laguage editio may use differet dialects or may come from differet coutries as is the case for the eglish editio.',\n",
       " 'these differeces may lead to some coflicts over spellig differeces e.g.',\n",
       " 'colour versus color or poits of view.',\n",
       " ' though the various laguage editios are held to global policies such as eutral poit of view they diverge o some poits of policy ad practice most otably o whether images that are ot licesed freely may be used uder a claim of fair use.',\n",
       " ' jimmy wales has described wikipedia as a effort to create ad distribute a free ecyclopedia of the highest possible quality to every sigle perso o the plaet i their ow laguage.',\n",
       " ' though each laguage editio fuctios more or less idepedetly some efforts are made to supervise them all.',\n",
       " \"they are coordiated i part by meta-wiki the wikimedia foudatio's wiki devoted to maitaiig all its projects wikipedia ad others.\",\n",
       " ' for istace meta-wiki provides importat statistics o all laguage editios of wikipedia ad it maitais a list of articles every wikipedia should have.',\n",
       " ' the list cocers basic cotet by subject biography history geography society culture sciece techology ad mathematics.',\n",
       " 'it is ot rare for articles strogly related to a particular laguage ot to have couterparts i aother editio.',\n",
       " 'for example articles about small tows i the uited states might be available oly i eglish eve whe they meet the otability criteria of other laguage wikipedia projects.',\n",
       " 'traslated articles represet oly a small portio of articles i most editios i part because those editios do ot allow fully automated traslatio of articles.',\n",
       " ' articles available i more tha oe laguage may offer iterwiki liks which lik to the couterpart articles i other editios.',\n",
       " 'a study published by plos oe i  also estimated the share of cotributios to differet editios of wikipedia from differet regios of the world.',\n",
       " 'it reported that the proportio of the edits made from north america was  for the eglish wikipedia ad  for the simple eglish wikipedia.',\n",
       " ' o march   the ecoomist i a article titled the future of wikipedia cited a tred aalysis cocerig data published by the wikimedia foudatio statig that [t]he umber of editors for the eglish-laguage versio has falle by a third i seve years.',\n",
       " ' the attritio rate for active editors i eglish wikipedia was cited by the ecoomist as substatially i cotrast to statistics for wikipedia i other laguages o-eglish wikipedia.',\n",
       " 'the ecoomist reported that the umber of cotributors with a average of five or more edits per moth was relatively costat sice  for wikipedia i other laguages at approximately  editors withi arrow seasoal variaces of about  editors up or dow.',\n",
       " 'the umber of active editors i eglish wikipedia by sharp compariso was cited as peakig i  at approximately  ad droppig to  by the start of .',\n",
       " 'should this attritio have cotiued uabated at the quoted tred rate of approximately  editors lost withi seve years by  there would be oly  active editors o eglish wikipedia.',\n",
       " ' i cotrast the tred aalysis published i the ecoomist presets wikipedia i other laguages o-eglish wikipedia as successful i retaiig their active editors o a reewable ad sustaied basis with their umbers remaiig relatively costat at approximately .',\n",
       " ' no commet was made cocerig which of the differetiated edit policy stadards from wikipedia i other laguages o-eglish wikipedia would provide a possible alterative to eglish wikipedia for effectively amelioratig substatial editor attritio rates o the eglish-laguage wikipedia.',\n",
       " \" various wikipedias have criticized wikipedia's large ad growig regulatio which icludes more tha fifty policies ad early  words as of [update].\",\n",
       " ' critics have stated that wikipedia exhibits systemic bias.',\n",
       " 'i  columist ad jouralist edwi black described wikipedia as beig a mixture of truth half-truth ad some falsehoods.',\n",
       " \" articles i the chroicle of higher educatio ad the joural of academic librariaship have criticized wikipedia's udue weight policy cocludig that the fact that wikipedia explicitly is ot desiged to provide correct iformatio about a subject but rather focus o all the major viewpoits o the subject give less attetio to mior oes ad creates omissios that ca lead to false beliefs based o icomplete iformatio.\",\n",
       " ' jouralists oliver kamm ad edwi black alleged i  ad  respectively that articles are domiated by the loudest ad most persistet voices usually by a group with a ax to grid o the topic.',\n",
       " ' a  article i educatio next joural cocluded that as a resource about cotroversial topics wikipedia is subject to maipulatio ad spi.',\n",
       " ' i  the wikipedia watch criticism website listed dozes of examples of plagiarism i the eglish wikipedia.',\n",
       " ' articles for traditioal ecyclopedias such as ecyclopædia britaica are carefully ad deliberately writte by experts ledig such ecyclopedias a reputatio for accuracy.',\n",
       " ' however a peer review i  of forty-two scietific etries o both wikipedia ad ecyclopædia britaica by the sciece joural nature foud few differeces i accuracy ad cocluded that the average sciece etry i wikipedia cotaied aroud four iaccuracies britaica about three.',\n",
       " ' joseph reagle suggested that while the study reflects a topical stregth of wikipedia cotributors i sciece articles wikipedia may ot have fared so well usig a radom samplig of articles or o humaities subjects.',\n",
       " ' others raised similar critiques.',\n",
       " ' the fidigs by nature were disputed by ecyclopædia britaica ad i respose nature gave a rebuttal of the poits raised by britaica.',\n",
       " \" i additio to the poit-for-poit disagreemet betwee these two parties others have examied the sample size ad selectio method used i the nature effort ad suggested a flawed study desig i nature's maual selectio of articles i part or i whole for compariso absece of statistical aalysis e.g. of reported cofidece itervals ad a lack of study statistical power i.e. owig to small sample size  or \\xa0×  articles compared vs > ad > set sizes for britaica ad the eglish wikipedia respectively.\",\n",
       " ' as a cosequece of the ope structure wikipedia makes o guaratee of validity of its cotet sice o oe is ultimately resposible for ay claims appearig i it.',\n",
       " \" cocers have bee raised by pc world i  regardig the lack of accoutability that results from users' aoymity the isertio of false iformatio vadalism ad similar problems.\",\n",
       " 'ecoomist tyler cowe wrote if i had to guess whether wikipedia or the media refereed joural article o ecoomics was more likely to be true after a ot so log thik i would opt for wikipedia.',\n",
       " 'he commets that some traditioal sources of o-fictio suffer from systemic biases ad ovel results i his opiio are over-reported i joural articles ad relevat iformatio is omitted from ews reports.',\n",
       " 'however he also cautios that errors are frequetly foud o iteret sites ad that academics ad experts must be vigilat i correctig them.',\n",
       " \" critics argue that wikipedia's ope ature ad a lack of proper sources for most of the iformatio makes it ureliable.\",\n",
       " ' some commetators suggest that wikipedia may be reliable but that the reliability of ay give article is ot clear.',\n",
       " \" editors of traditioal referece works such as the ecyclopædia britaica have questioed the project's utility ad status as a ecyclopedia.\",\n",
       " ' wikipedia co-fouder jimmy wales has claimed that wikipedia has largely avoided the problem of fake ews because the wikipedia commuity regularly debates the quality of sources i articles.',\n",
       " \" wikipedia's ope structure iheretly makes it a easy target for iteret trolls spammers ad various forms of paid advocacy see as couterproductive to the maiteace of a eutral ad verifiable olie ecyclopedia.\",\n",
       " '\\ni respose to paid advocacy editig ad udisclosed editig issues wikipedia was reported i a article i the wall street joural to have stregtheed its rules ad laws agaist udisclosed editig.',\n",
       " \" the article stated that begiig moday [from the date of the article jue  ] chages i wikipedia's terms of use will require ayoe paid to edit articles to disclose that arragemet.\",\n",
       " \"katherie maher the oprofit wikimedia foudatio's chief commuicatios officer said the chages address a setimet amog voluteer editors that 'we're ot a advertisig service we're a ecyclopedia.\",\n",
       " \"' these issues amog others had bee parodied sice the first decade of wikipedia otably by stephe colbert o the colbert report.\",\n",
       " ' a harvard law textbook legal research i a nutshell  cites wikipedia as a geeral source that ca be a real boo i comig up to speed i the law goverig a situatio ad while ot authoritative ca provide basic facts as well as leads to more i-depth resources.',\n",
       " ' most uiversity lecturers discourage studets from citig ay ecyclopedia i academic work preferrig primary sources some specifically prohibit wikipedia citatios.',\n",
       " ' wales stresses that ecyclopedias of ay type are ot usually appropriate to use as citable sources ad should ot be relied upo as authoritative.',\n",
       " ' wales oce  or earlier said he receives about te emails weekly from studets sayig they got failig grades o papers because they cited wikipedia he told the studets they got what they deserved.',\n",
       " \"for god's sake you're i college do't cite the ecyclopedia he said.\",\n",
       " ' i february  a article i the harvard crimso ewspaper reported that a few of the professors at harvard uiversity were icludig wikipedia articles i their syllabi although without realizig the articles might chage.',\n",
       " ' i jue  former presidet of the america library associatio michael gorma codemed wikipedia alog with google statig that academics who edorse the use of wikipedia are the itellectual equivalet of a dietitia who recommeds a steady diet of big macs with everythig.',\n",
       " 'i cotrast academic writig[clarificatio eeded] i wikipedia has evolved i recet years ad has bee foud to icrease studet iterest persoal coectio to the product creativity i material processig ad iteratioal collaboratio i the learig process.',\n",
       " \" o march   julie beck writig for the atlatic magazie i a article titled doctors'  source for healthcare iformatio wikipedia stated that fifty percet of physicias look up coditios o the wikipedia site ad some are editig articles themselves to improve the quality of available iformatio.\",\n",
       " \" beck cotiued to detail i this article ew programs of ami azzam at the uiversity of sa fracisco to offer medical school courses to medical studets for learig to edit ad improve wikipedia articles o health-related issues as well as iteral quality cotrol programs withi wikipedia orgaized by james heilma to improve a group of  health-related articles of cetral medical importace up to wikipedia's highest stadard of articles usig its featured article ad good article peer-review evaluatio process.\",\n",
       " ' i a may   follow-up article i the atlatic titled ca wikipedia ever be a defiitive medical text',\n",
       " \" julie beck quotes wikiproject medicie's james heilma as statig just because a referece is peer-reviewed does't mea it's a high-quality referece.\",\n",
       " \" beck added that wikipedia has its ow peer review process before articles ca be classified as 'good' or 'featured'.\",\n",
       " \"heilma who has participated i that process before says 'less tha oe percet' of wikipedia's medical articles have passed.\",\n",
       " ' i  researchers at caregie mello uiversity foud that the quality of a wikipedia article would suffer rather tha gai from addig more writers whe the article lacked appropriate explicit or implicit coordiatio.',\n",
       " ' for istace whe cotributors rewrite small portios of a etry rather tha makig full-legth revisios high- ad low-quality cotet may be itermigled withi a etry.',\n",
       " 'roy rosezweig a history professor stated that america natioal biography olie outperformed wikipedia i terms of its clear ad egagig prose which he said was a importat aspect of good historical writig.',\n",
       " \" cotrastig wikipedia's treatmet of abraham licol to that of civil war historia james mcpherso i america natioal biography olie he said that both were essetially accurate ad covered the major episodes i licol's life but praised mcpherso's richer cotextualizatio [...] his artful use of quotatios to capture licol's voice [...] ad [...] his ability to covey a profoud message i a hadful of words.\",\n",
       " \"by cotrast he gives a example of wikipedia's prose that he fids both verbose ad dull.\",\n",
       " 'rosezweig also criticized the wafflig—ecouraged by the npov policy—[which] meas that it is hard to discer ay overall iterpretive stace i wikipedia history.',\n",
       " 'while geerally praisig the article o william clarke quatrill he quoted its coclusio as a example of such wafflig which the stated some historias [...] remember him as a opportuistic bloodthirsty outlaw while others cotiue to view him as a darig soldier ad local folk hero.',\n",
       " ' other critics have made similar charges that eve if wikipedia articles are factually accurate they are ofte writte i a poor almost ureadable style.',\n",
       " 'frequet wikipedia critic adrew orlowski commeted eve whe a wikipedia etry is  percet factually correct ad those facts have bee carefully chose it all too ofte reads as if it has bee traslated from oe laguage to aother the ito a third passig a illiterate traslator at each stage.',\n",
       " ' a study of wikipedia articles o cacer was coducted i  by yaacov lawrece of the kimmel cacer ceter at thomas jefferso uiversity.',\n",
       " 'the study was limited to those articles that could be foud i the physicia data query ad excluded those writte at the start class or stub class level.',\n",
       " \"lawrece foud the articles accurate but ot very readable ad thought that wikipedia's lack of readability to o-college readers may reflect its varied origis ad haphazard editig.\",\n",
       " ' the ecoomist argued that better-writte articles ted to be more reliable ielegat or ratig prose usually reflects muddled thoughts ad icomplete iformatio.',\n",
       " ' wikipedia seeks to create a summary of all huma kowledge i the form of a olie ecyclopedia with each topic covered ecyclopedically i oe article.',\n",
       " 'sice it has terabytes of disk space it ca have far more topics tha ca be covered by ay prited ecyclopedia.',\n",
       " ' the exact degree ad maer of coverage o wikipedia is uder costat review by its editors ad disagreemets are ot ucommo see deletioism ad iclusioism.',\n",
       " ' wikipedia cotais materials that some people may fid objectioable offesive or porographic.',\n",
       " \"the 'wikipedia is ot cesored' policy has sometimes proved cotroversial i  wikipedia rejected a olie petitio agaist the iclusio of images of muhammad i the eglish editio of its muhammad article citig this policy.\",\n",
       " 'the presece of politically religiously ad porographically sesitive materials i wikipedia has led to the cesorship of wikipedia by atioal authorities i chia ad pakista amogst other coutries.',\n",
       " 'a  study coducted by researchers at caregie mello uiversity ad palo alto research ceter gave a distributio of topics as well as growth from july  to jauary  i each field these umbers refer oly to the umber of articles it is possible for oe topic to cotai a large umber of short articles ad aother to cotai a small umber of large oes.',\n",
       " 'through its wikipedia loves libraries program wikipedia has partered with major public libraries such as the new york public library for the performig arts to expad its coverage of uderrepreseted subjects ad articles.',\n",
       " ' a  study coducted by researchers at the uiversity of miesota idicated that male ad female editors focus o differet coverage topics.',\n",
       " 'there was a greater cocetratio of females i the people ad arts category while males focus more o geography ad sciece.',\n",
       " ' research coducted by mark graham of the oxford iteret istitute i  idicated that the geographic distributio of article topics is highly ueve.',\n",
       " 'africa is the most uderrepreseted.',\n",
       " ' across  laguage editios of wikipedia historical articles ad sectios are geerally eurocetric ad focused o recet evets.',\n",
       " ' a editorial i the guardia i  claimed that more effort wet ito providig refereces for a list of female por actors tha a list of wome writers.',\n",
       " ' data has also show that africa-related material ofte faces omissio a kowledge gap that a july  wikimedia coferece i cape tow sought to address.',\n",
       " ' whe multiple editors cotribute to oe topic or set of topics systemic bias may arise due to the demographic backgrouds of the editors.',\n",
       " 'i  wales claimed that the ueveess of coverage is a reflectio of the demography of the editors citig for example biographies of famous wome through history ad issues surroudig early childcare.',\n",
       " \" the october   essay by tom simoite i mit's techology review titled the declie of wikipedia discussed the effect of systemic bias ad policy creep o the dowward tred i the umber of editors.\",\n",
       " ' systemic bias o wikipedia may follow that of culture geerally[vague] for example favorig certai atioalities ethicities or majority religios.',\n",
       " ' it may more specifically follow the biases of iteret culture icliig to be youg male eglish-speakig educated techologically aware ad wealthy eough to spare time for editig.',\n",
       " 'biases itrisically may iclude a overemphasis o topics such as pop culture techology ad curret evets.',\n",
       " ' taha yasseri of the uiversity of oxford i  studied the statistical treds of systemic bias at wikipedia itroduced by editig coflicts ad their resolutio.',\n",
       " ' his research examied the couterproductive work behavior of edit warrig.',\n",
       " 'yasseri coteded that simple reverts or udo operatios were ot the most sigificat measure of couterproductive behavior at wikipedia ad relied istead o the statistical measuremet of detectig revertig/reverted pairs or mutually revertig edit pairs.',\n",
       " 'such a mutually revertig edit pair is defied where oe editor reverts the edit of aother editor who the i sequece returs to revert the first editor i the mutually revertig edit pairs.',\n",
       " 'the results were tabulated for several laguage versios of wikipedia.',\n",
       " \"the eglish wikipedia's three largest coflict rates beloged to the articles george w. bush aarchism ad muhammad.\",\n",
       " ' by compariso for the germa wikipedia the three largest coflict rates at the time of the oxford study were for the articles coverig croatia scietology ad / cospiracy theories.',\n",
       " \" researchers from washigto uiversity developed a statistical model to measure systematic bias i the behavior of wikipedia's users regardig cotroversial topics.\",\n",
       " \"the authors focused o behavioral chages of the ecyclopedia's admiistrators after assumig the post writig that systematic bias occurred after the fact.\",\n",
       " ' wikipedia has bee criticized for allowig iformatio about graphic cotet.',\n",
       " 'articles depictig what some critics have called objectioable cotet such as feces cadaver huma peis vulva ad udity cotai graphic pictures ad detailed iformatio easily available to ayoe with access to the iteret icludig childre.',\n",
       " 'the site also icludes sexual cotet such as images ad videos of masturbatio ad ejaculatio illustratios of zoophilia ad photos from hardcore porographic films i its articles.',\n",
       " 'it also has o-sexual photographs of ude childre.',\n",
       " \"the wikipedia article about virgi killer—a  album from the germa rock bad scorpios—features a picture of the album's origial cover which depicts a aked prepubescet girl.\",\n",
       " 'the origial release cover caused cotroversy ad was replaced i some coutries.',\n",
       " \"i december  access to the wikipedia article virgi killer was blocked for four days by most iteret service providers i the uited kigdom after the iteret watch foudatio iwf decided the album cover was a potetially illegal idecet image ad added the article's url to a blacklist it supplies to british iteret service providers.\",\n",
       " ' i april  sager wrote a letter to the federal bureau of ivestigatio outliig his cocers that two categories of images o wikimedia commos cotaied child porography ad were i violatio of us federal obsceity law.',\n",
       " ' sager later clarified that the images which were related to pedophilia ad oe about lolico were ot of real childre but said that they costituted obscee visual represetatios of the sexual abuse of childre uder the protect act of .',\n",
       " ' that law bas photographic child porography ad cartoo images ad drawigs of childre that are obscee uder america law.',\n",
       " ' sager also expressed cocers about access to the images o wikipedia i schools.',\n",
       " \" wikimedia foudatio spokesma jay walsh strogly rejected sager's accusatio sayig that wikipedia did ot have material we would deem to be illegal.\",\n",
       " 'if we did we would remove it.',\n",
       " ' followig the complait by sager wales deleted sexual images without cosultig the commuity.',\n",
       " 'after some editors who voluteer to maitai the site argued that the decisio to delete had bee made hastily wales volutarily gave up some of the powers he had held up to that time as part of his co-fouder status.',\n",
       " 'he wrote i a message to the wikimedia foudatio mailig-list that this actio was i the iterest of ecouragig this discussio to be about real philosophical/cotet issues rather tha be about me ad how quickly i acted.',\n",
       " ' critics icludig wikipediocracy oticed that may of the porographic images deleted from wikipedia sice  have reappeared.',\n",
       " ' oe privacy cocer i the case of wikipedia is the right of a private citize to remai a private citize rather tha a public figure i the eyes of the law.',\n",
       " '[ote ] it is a battle betwee the right to be aoymous i cyberspace ad the right to be aoymous i real life meatspace.',\n",
       " 'a particular problem occurs i the case of a relatively uimportat idividual ad for whom there exists a wikipedia page agaist her or his wishes.',\n",
       " 'i jauary  a germa court ordered the germa wikipedia shut dow withi germay because it stated the full ame of boris floricic aka tro a deceased hacker.',\n",
       " \"o february   the ijuctio agaist wikimedia deutschlad was overtured with the court rejectig the otio that tro's right to privacy or that of his parets was beig violated.\",\n",
       " ' wikipedia has a voluteer respose team that uses the otrs system to hadle queries without havig to reveal the idetities of the ivolved parties.',\n",
       " 'this is used for example i cofirmig the permissio for usig idividual images ad other media i the project.',\n",
       " ' wikipedia has bee described as harborig a battlegroud culture of sexism ad harassmet.',\n",
       " ' the perceived toxic attitudes ad tolerace of violet ad abusive laguage are also reasos put forth for the geder gap i wikipedia editors.',\n",
       " ' i  a female editor who requested a separate space o wikipedia to discuss improvig civility had her proposal referred to by a male editor usig the words the easiest way to avoid beig called a cut is ot to act like oe.',\n",
       " ' wikipedia is hosted ad fuded by the wikimedia foudatio a o-profit orgaizatio which also operates wikipedia-related projects such as wiktioary ad wikibooks.',\n",
       " 'the foudatio relies o public cotributios ad grats to fud its missio.',\n",
       " \" the foudatio's  irs form  shows reveue of .\\xa0millio ad expeses of almost \\xa0millio with assets of .\\xa0millio ad liabilities of about .\\xa0millio.\",\n",
       " ' i may  wikimedia foudatio amed lila tretikov as its secod executive director takig over for sue garder.',\n",
       " \" the wall street joural reported o may   that tretikov's iformatio techology backgroud from her years at uiversity of califoria offers wikipedia a opportuity to develop i more cocetrated directios guided by her ofte repeated positio statemet that iformatio like air wats to be free.\",\n",
       " ' the same wall street joural article reported these directios of developmet accordig to a iterview with spokesma jay walsh of wikimedia who said tretikov would address that issue paid advocacy as a priority.',\n",
       " \"'we are really pushig toward more trasparecy\\xa0... we are reiforcig that paid advocacy is ot welcome.'\",\n",
       " 'iitiatives to ivolve greater diversity of cotributors better mobile support of wikipedia ew geo-locatio tools to fid local cotet more easily ad more tools for users i the secod ad third world are also priorities walsh said.',\n",
       " ' followig the departure of tretikov from wikipedia due to issues cocerig the use of the superprotectio feature which some laguage versios of wikipedia have adopted katherie maher became the third executive director of the wikimedia foudatio i jue .',\n",
       " ' maher has stated that oe of her priorities would be the issue of editor harassmet edemic to wikipedia as idetified by the wikipedia board i december.',\n",
       " 'maher stated regardig the harassmet issue that it establishes a sese withi the commuity that this is a priority\\xa0... ad that correctio requires that it has to be more tha words.',\n",
       " ' wikipedia is also supported by may orgaizatios ad groups that are affiliated with the wikimedia foudatio but idepedetly-ru called wikimedia movemet affiliates.',\n",
       " 'these iclude wikimedia chapters which are atioal or sub-atioal orgaizatios such as wikimedia deutschlad ad wikimédia frace thematic orgaizatios such as amical wikimedia for the catala laguage commuity ad user groups.',\n",
       " 'these affiliates participate i the promotio developmet ad fudig of wikipedia.',\n",
       " 'the operatio of wikipedia depeds o mediawiki a custom-made free ad ope source wiki software platform writte i php ad built upo the mysql database system.',\n",
       " ' the software icorporates programmig features such as a macro laguage variables a trasclusio system for templates ad url redirectio.',\n",
       " 'mediawiki is licesed uder the gnu geeral public licese gpl ad it is used by all wikimedia projects as well as may other wiki projects.',\n",
       " 'origially wikipedia ra o usemodwiki writte i perl by clifford adams phase i which iitially required camelcase for article hyperliks the preset double bracket style was icorporated later.',\n",
       " 'startig i jauary  phase ii wikipedia bega ruig o a php wiki egie with a mysql database this software was custom-made for wikipedia by magus maske.',\n",
       " 'the phase ii software was repeatedly modified to accommodate the expoetially icreasig demad.',\n",
       " 'i july  phase iii wikipedia shifted to the third-geeratio software mediawiki origially writte by lee daiel crocker.',\n",
       " 'several mediawiki extesios are istalled to exted the fuctioality of the mediawiki software.',\n",
       " \"i april  a lucee extesio was added to mediawiki's built-i search ad wikipedia switched from mysql to lucee for searchig.\",\n",
       " 'the site curretly uses lucee search .[eeds update] which is writte i java ad based o lucee library ..',\n",
       " ' i july  after extesive beta testig a wysiwyg what you see is what you get extesio visualeditor was opeed to public use.',\n",
       " ' it was met with much rejectio ad criticism ad was described as slow ad buggy.',\n",
       " ' the feature was chaged from opt-out to opt-i afterward.',\n",
       " 'computer programs called bots have ofte bee used to perform simple ad repetitive tasks such as correctig commo misspelligs ad stylistic issues or to start articles such as geography etries i a stadard format from statistical data.',\n",
       " ' oe cotroversial cotributor sverker johasso\\xa0[sv] creatig articles with his bot was reported to create up to  articles o the swedish wikipedia o certai days.',\n",
       " ' additioally there are bots desiged to automatically otify editors whe they make commo editig errors such as umatched quotes or umatched paretheses.',\n",
       " ' edits falsely idetified by bots as the work of a baed editor ca be restored by other editors.',\n",
       " 'a ati-vadal bot is programmed to detect ad revert vadalism quickly.',\n",
       " ' bots are able to idicate edits from particular accouts or ip address rages as occurred at the time of the shootig dow of the mh jet icidet i july  whe it was reported edits were made via ips cotrolled by the russia govermet.',\n",
       " ' bots o wikipedia must be approved before activatio.',\n",
       " ' accordig to adrew lih the curret expasio of wikipedia to millios of articles would be difficult to evisio without the use of such bots.',\n",
       " ' wikipedia receives betwee  ad -page requests per secod depedig o the time of the day.',\n",
       " '[eeds update] as of [update] page requests are first passed to a frot-ed layer of varish cachig servers.',\n",
       " '[eeds update] further statistics based o a publicly available -moth wikipedia access trace are available.',\n",
       " ' requests that caot be served from the varish cache are set to load-balacig servers ruig the liux virtual server software which i tur pass them to oe of the apache web servers for page rederig from the database.',\n",
       " 'the web servers deliver pages as requested performig page rederig for all the laguage editios of wikipedia.',\n",
       " 'to icrease speed further redered pages are cached i a distributed memory cache util ivalidated allowig page rederig to be skipped etirely for most commo page accesses.',\n",
       " '[citatio eeded] wikipedia curretly rus o dedicated clusters of liux servers maily ubutu.',\n",
       " '[eeds update] as of december\\xa0[update] there were  i florida ad  i amsterdam.',\n",
       " ' by jauary   wikipedia had migrated its primary data ceter to a equiix facility i ashbur virgiia.',\n",
       " ' i  wikipedia had istalled a cachig cluster i a equiix facility i sigapore the first of its kid i asia.',\n",
       " ' followig growig amouts of icomig doatios exceedig seve digits i  as recetly reported the foudatio has reached a threshold of assets which qualify its cosideratio uder the priciples of idustrial orgaizatio ecoomics to idicate the eed for the re-ivestmet of doatios ito the iteral research ad developmet of the foudatio.',\n",
       " ' two of the recet projects of such iteral research ad developmet have bee the creatio of a visual editor ad a largely uder-utilized thak tab which were developed to ameliorate issues of editor attritio which have met with limited success.',\n",
       " ' the estimates for reivestmet by idustrial orgaizatios ito iteral research ad developmet was studied by adam jaffe who recorded that the rage of  to  aually was to be recommeded with high-ed techology requirig the higher level of support for iteral reivestmet.',\n",
       " ' at the  level of cotributios for wikimedia presetly documeted as \\xa0millio dollars the computed budget level recommeded by jaffe ad caballero for reivestmet ito iteral research ad developmet is betwee .\\xa0millio ad .\\xa0millio dollars aually.',\n",
       " ' i  the level of cotributios were reported by bloomberg news as beig at \\xa0millio aually updatig the jaffe estimates for the higher level of support to betwee .\\xa0millio ad .\\xa0millio aually.',\n",
       " \" commuity-produced ews publicatios iclude the eglish wikipedia's the sigpost fouded i  by michael sow a attorey wikipedia admiistrator ad former chair of the wikimedia foudatio board of trustees.\",\n",
       " ' it covers ews ad evets from the site as well as major evets from other wikimedia projects such as wikimedia commos.',\n",
       " 'similar publicatios are the germa-laguage kurier ad the portuguese-laguage correio da wikipédia.',\n",
       " 'other past ad preset commuity ews publicatios o eglish wikipedia iclude the wikiworld webcomic the wikipedia weekly podcast ad ewsletters of specific wikiprojects like the bugle from wikiproject military history ad the mothly ewsletter from the guild of copy editors.',\n",
       " 'there are also several publicatios from the wikimedia foudatio ad multiligual publicatios such as wikimedia diff ad this moth i educatio.',\n",
       " 'whe the project was started i  all text i wikipedia was covered by the gnu free documetatio licese gfdl a copyleft licese permittig the redistributio creatio of derivative works ad commercial use of cotet while authors retai copyright of their work.',\n",
       " ' the gfdl was created for software mauals that come with free software programs licesed uder the gpl.',\n",
       " 'this made it a poor choice for a geeral referece work for example the gfdl requires the reprits of materials from wikipedia to come with a full copy of the gfdl text.',\n",
       " 'i december  the creative commos licese was released it was specifically desiged for creative works i geeral ot just for software mauals.',\n",
       " 'the licese gaied popularity amog bloggers ad others distributig creative works o the web.',\n",
       " 'the wikipedia project sought the switch to the creative commos.',\n",
       " ' because the two liceses gfdl ad creative commos were icompatible i november  followig the request of the project the free software foudatio fsf released a ew versio of the gfdl desiged specifically to allow wikipedia to relicese its cotet to cc by-sa by august  .',\n",
       " 'a ew versio of the gfdl automatically covers wikipedia cotets.',\n",
       " 'i april  wikipedia ad its sister projects held a commuity-wide referedum which decided the switch i jue .',\n",
       " ' the hadlig of media files e.g.',\n",
       " 'image files varies across laguage editios.',\n",
       " 'some laguage editios such as the eglish wikipedia iclude o-free image files uder fair use doctrie while the others have opted ot to i part because of the lack of fair use doctries i their home coutries e.g.',\n",
       " 'i japaese copyright law.',\n",
       " 'media files covered by free cotet liceses e.g.',\n",
       " \"creative commos' cc by-sa are shared across laguage editios via wikimedia commos repository a project operated by the wikimedia foudatio.\",\n",
       " \"wikipedia's accommodatio of varyig iteratioal copyright laws regardig images has led some to observe that its photographic coverage of topics lags behid the quality of the ecyclopedic text.\",\n",
       " ' the wikimedia foudatio is ot a licesor of cotet but merely a hostig service for the cotributors ad licesors of the wikipedia.',\n",
       " 'this positio has bee successfully defeded i court.',\n",
       " ' because wikipedia cotet is distributed uder a ope licese ayoe ca reuse or re-distribute it at o charge.',\n",
       " 'the cotet of wikipedia has bee published i may forms both olie ad offlie outside the wikipedia website.',\n",
       " 'obtaiig the full cotets of wikipedia for reuse presets challeges sice direct cloig via a web crawler is discouraged.',\n",
       " \" wikipedia publishes dumps of its cotets but these are text-oly as of [update] there was o dump available of wikipedia's images.\",\n",
       " ' several laguages of wikipedia also maitai a referece desk where voluteers aswer questios from the geeral public.',\n",
       " 'accordig to a study by pia shachaf i the joural of documetatio the quality of the wikipedia referece desk is comparable to a stadard library referece desk with a accuracy of  percet.',\n",
       " \" wikipedia's origial medium was for users to read ad edit cotet usig ay stadard web browser through a fixed iteret coectio.\",\n",
       " 'although wikipedia cotet has bee accessible through the mobile web sice july  the new york times o february   quoted erik möller deputy director of the wikimedia foudatio statig that the trasitio of iteret traffic from desktops to mobile devices was sigificat ad a cause for cocer ad worry.',\n",
       " ' the article i the new york times reported the compariso statistics for mobile edits statig that oly  percet of the readership of the eglish-laguage wikipedia comes via mobile devices a figure substatially lower tha the percetage of mobile traffic for other media sites may of which approach  percet.',\n",
       " 'ad the shift to mobile editig has lagged eve more.',\n",
       " ' the new york times reports that möller has assiged a team of  software developers focused o mobile out of a total of approximately  employees workig at the wikimedia foudatio.',\n",
       " 'oe pricipal cocer cited by the new york times for the worry is for wikipedia to effectively address attritio issues with the umber of editors which the olie ecyclopedia attracts to edit ad maitai its cotet i a mobile access eviromet.',\n",
       " \" bloomberg busiessweek reported i july  that google's adroid mobile apps have domiated the largest share of global smartphoe shipmets for  with . of market share over their ext closest competitor i ios with . of the market.\",\n",
       " ' at the time of the tretikov appoitmet ad her posted web iterview with sue garder i may  wikimedia represetatives made a techical aoucemet cocerig the umber of mobile access systems i the market seekig access to wikipedia.',\n",
       " 'directly after the posted web iterview the represetatives stated that wikimedia would be applyig a all-iclusive approach to accommodate as may mobile access systems as possible i its efforts for expadig geeral mobile access icludig blackberry ad the widows phoe system makig market share a secodary issue.',\n",
       " ' the latest versio of the adroid app for wikipedia was released o july   to geerally positive reviews scorig over four of a possible five i a poll of approximately  users dowloadig from google.',\n",
       " ' the latest versio for ios was released o april   to similar reviews.',\n",
       " ' access to wikipedia from mobile phoes was possible as early as  through the wireless applicatio protocol wap via the wapedia service.',\n",
       " 'i jue  wikipedia lauched e.mobile.wikipedia.org a official website for wireless devices.',\n",
       " 'i  a ewer mobile service was officially released located at e.m.wikipedia.org which caters to more advaced mobile devices such as the iphoe adroid-based devices or webos-based devices.',\n",
       " 'several other methods of mobile access to wikipedia have emerged.',\n",
       " 'may devices ad applicatios optimize or ehace the display of wikipedia cotet for mobile devices while some also icorporate additioal features such as use of wikipedia metadata see wikipediametadata such as geoiformatio.',\n",
       " ' wikipedia zero was a iitiative of the wikimedia foudatio to expad the reach of the ecyclopedia to the developig coutries.',\n",
       " ' it was discotiued i february .',\n",
       " ' adrew lih ad adrew brow both maitai editig wikipedia with smartphoes is difficult ad this discourages ew potetial cotributors.',\n",
       " 'the umber of wikipedia editors has bee decliig after several years ad tom simoite of mit techology review claims the bureaucratic structure ad rules are a factor i this.',\n",
       " 'simoite alleges some wikipedias use the labyrithie rules ad guidelies to domiate others ad those editors have a vested iterest i keepig the status quo.',\n",
       " ' lih alleges there is a serious disagreemet amog existig cotributors o how to resolve this.',\n",
       " \"lih fears for wikipedia's log-term future while brow fears problems with wikipedia will remai ad rival ecyclopedias will ot replace it.\",\n",
       " ' i – after a barrage of false ews reports both facebook ad youtube aouced they would rely o wikipedia to help their users evaluate reports ad reject false ews.',\n",
       " \"noam cohe writig i the washigto post states youtube's reliace o wikipedia to set the record straight builds o the thikig of aother fact-challeged platform the facebook social etwork which aouced last year that wikipedia would help its users root out 'fake ews'.\",\n",
       " ' as of november  alexa records the daily pageviews per visitor as . ad the average daily time o site as  miutes.',\n",
       " ' i february  the new york times reported that wikipedia was raked fifth globally amog all websites statig with  billio page views ad early  millio uique visitors a moth [...] wikipedia trails just yahoo facebook microsoft ad google the largest with . billio uique visitors.',\n",
       " ' however its rakig dropped to th globally by jue  due mostly to a rise i popularity of chiese websites for olie shoppig.',\n",
       " ' i additio to logistic growth i the umber of its articles wikipedia has steadily gaied status as a geeral referece website sice its iceptio i .',\n",
       " ' about  percet of search egie traffic to wikipedia comes from google a good portio of which is related to academic research.',\n",
       " ' the umber of readers of wikipedia worldwide reached \\xa0millio at the ed of .',\n",
       " ' the pew iteret ad america life project foud that oe third of us iteret users cosulted wikipedia.',\n",
       " ' i  busiess isider gave wikipedia a valuatio of \\xa0billio if it ra advertisemets.',\n",
       " ' accordig to wikipedia readership survey  the average age of wikipedia readers is  with a rough parity betwee geders.',\n",
       " 'almost half of wikipedia readers visit the site more tha five times a moth ad a similar umber of readers specifically look for wikipedia i search egie results.',\n",
       " 'about  percet of wikipedia readers do ot realize that wikipedia is a o-profit orgaizatio.',\n",
       " \" durig the covid- pademic wikipedia's coverage of the pademic received iteratioal media attetio ad brought a icrease i wikipedia readership overall.\",\n",
       " \" wikipedia's cotet has also bee used i academic studies books cofereces ad court cases.\",\n",
       " \" the parliamet of caada's website refers to wikipedia's article o same-sex marriage i the related liks sectio of its further readig list for the civil marriage act.\",\n",
       " \" the ecyclopedia's assertios are icreasigly used as a source by orgaizatios such as the us federal courts ad the world itellectual property orgaizatio—though maily for supportig iformatio rather tha iformatio decisive to a case.\",\n",
       " ' cotet appearig o wikipedia has also bee cited as a source ad refereced i some us itelligece agecy reports.',\n",
       " ' i december  the scietific joural rna biology lauched a ew sectio for descriptios of families of rna molecules ad requires authors who cotribute to the sectio to also submit a draft article o the rna family for publicatio i wikipedia.',\n",
       " ' wikipedia has also bee used as a source i jouralism ofte without attributio ad several reporters have bee dismissed for plagiarizig from wikipedia.',\n",
       " \" i  time magazie recogized wikipedia's participatio alog with youtube reddit myspace ad facebook i the rapid growth of olie collaboratio ad iteractio by millios of people worldwide.\",\n",
       " 'i july  wikipedia was the focus of a -miute documetary o bbc radio  which argued that with icreased usage ad awareess the umber of refereces to wikipedia i popular culture is such that the word is oe of a select group of st-cetury ous that are so familiar google facebook youtube that they o loger eed explaatio.',\n",
       " 'o september   italia politicia fraco grillii raised a parliametary questio with the miister of cultural resources ad activities about the ecessity of freedom of paorama.',\n",
       " 'he said that the lack of such freedom forced wikipedia the seveth most cosulted website to forbid all images of moder italia buildigs ad art ad claimed this was hugely damagig to tourist reveues.',\n",
       " \" o september   the washigto post reported that wikipedia had become a focal poit i the  us electio campaig sayig type a cadidate's ame ito google ad amog the first results is a wikipedia page makig those etries arguably as importat as ay ad i defiig a cadidate.\",\n",
       " 'already the presidetial etries are beig edited dissected ad debated coutless times each day.',\n",
       " \" a october  reuters article titled wikipedia page the latest status symbol reported the recet pheomeo of how havig a wikipedia article vidicates oe's otability.\",\n",
       " ' active participatio also has a impact.',\n",
       " 'law studets have bee assiged to write wikipedia articles as a exercise i clear ad succict writig for a uiitiated audiece.',\n",
       " ' a workig group led by peter stoe formed as a part of the staford-based project oe hudred year study o artificial itelligece i its report called wikipedia the best-kow example of crowdsourcig\\xa0... that far exceeds traditioally-compiled iformatio sources such as ecyclopedias ad dictioaries i scale ad depth.',\n",
       " \" i a  opiio piece for wired hossei derakhsha describes wikipedia as oe of the last remaiig pillars of the ope ad decetralized web ad cotrasted its existece as a text-based source of kowledge with social media ad social etworkig services the latter havig sice coloized the web for televisio's values.\",\n",
       " \"for derakhsha wikipedia's goal as a ecyclopedia represets the age of elightemet traditio of ratioality triumphig over emotios a tred which he cosiders edagered due to the gradual shift from a typographic culture to a photographic oe which i tur mea[s] a shift from ratioality to emotios expositio to etertaimet.\",\n",
       " 'rather tha sapere aude lit.',\n",
       " \"''dare to kow'' social etworks have led to a culture of [d]are ot to care to kow.\",\n",
       " 'this is while wikipedia faces a more cocerig problem tha fudig amely a flatteig growth rate i the umber of cotributors to the website.',\n",
       " 'cosequetly the challege for wikipedia ad those who use it is to save wikipedia ad its promise of a free ad ope collectio of all huma kowledge amid the coquest of ew ad old televisio—how to collect ad preserve kowledge whe obody cares to kow.',\n",
       " ' wikipedia wo two major awards i may .',\n",
       " ' the first was a golde nica for digital commuities of the aual prix ars electroica cotest this came with a € £  grat ad a ivitatio to preset at the pae cyberarts festival i austria later that year.',\n",
       " \"the secod was a judges' webby award for the commuity category.\",\n",
       " ' wikipedia was also omiated for a best practices webby award.',\n",
       " 'i  readers of bradchael.com voted wikipedia as the fourth-highest brad rakig receivig  percet of the votes i aswer to the questio which brad had the most impact o our lives i ',\n",
       " ' i september  wikipedia received quadriga a missio of elightemet award of werkstatt deutschlad alog with boris tadić eckart höflig ad peter gabriel.',\n",
       " 'the award was preseted to wales by david weiberger.',\n",
       " ' i  wikipedia was awarded both the aual erasmus prize which recogizes exceptioal cotributios to culture society or social scieces ad the spaish pricess of asturias award o iteratioal cooperatio.',\n",
       " ' speakig at the asturia parliamet i oviedo the city that hosts the awards ceremoy jimmy wales praised the work of the asturia laguage wikipedia users.',\n",
       " ' the ight of the ceremoy members of the wikimedia foudatio held a meetig with wikipedias from all parts of spai icludig the local asturia commuity.',\n",
       " \"may parodies target wikipedia's opeess ad susceptibility to iserted iaccuracies with characters vadalizig or modifyig the olie ecyclopedia project's articles.\",\n",
       " 'comedia stephe colbert has parodied or refereced wikipedia o umerous episodes of his show the colbert report ad coied the related term wikiality meaig together we ca create a reality that we all agree o—the reality we just agreed o.',\n",
       " \" aother example ca be foud i wikipedia celebrates  years of america idepedece a july  frot-page article i the oio as well as the  the oio article 'l.a.\",\n",
       " \"law' wikipedia page viewed  times today.\",\n",
       " ' i a episode of the televisio comedy the office u.s. which aired i april  a icompetet office maager michael scott is show relyig o a hypothetical wikipedia article for iformatio o egotiatio tactics to assist him i egotiatig lesser pay for a employee.',\n",
       " \" viewers of the show tried to add the episode's metio of the page as a sectio of the actual wikipedia article o egotiatio but this effort was preveted by other users o the article's talk page.\",\n",
       " ' my number oe doctor a  episode of the televisio show scrubs played o the perceptio that wikipedia is a ureliable referece tool with a scee i which perry cox reacts to a patiet who says that a wikipedia article idicates that the raw food diet reverses the effects of boe cacer by retortig that the same editor who wrote that article also wrote the battlestar galactica episode guide.',\n",
       " ' i  the comedic website collegehumor produced a video sketch amed professor wikipedia i which the fictitious professor wikipedia istructs a class with a medley of uverifiable ad occasioally absurd statemets.',\n",
       " ' the dilbert comic strip from may   features a character supportig a improbable claim by sayig give me te miutes ad the check wikipedia.',\n",
       " ' i july  bbc radio  broadcast a comedy series called bigipedia which was set o a website which was a parody of wikipedia.',\n",
       " 'some of the sketches were directly ispired by wikipedia ad its articles.',\n",
       " ' o august   the new yorker website published a cartoo with this captio dammit maig have you cosidered the proou war that this is goig to start o your wikipedia page',\n",
       " ' the cartoo referred to chelsea elizabeth maig bor bradley edward maig a america activist politicia ad former uited states army soldier ad a tras woma.',\n",
       " 'i december  joh julius norwich stated i a letter published i the times ewspaper that as a historia he resorted to wikipedia at least a doze times a day ad had ever yet caught it out.',\n",
       " 'he described it as a work of referece as useful as ay i existece with so wide a rage that it is almost impossible to fid a perso place or thig that it has left ucovered ad that he could ever have writte his last two books without it.',\n",
       " ' wikipedia has also spawed several sister projects which are also wikis ru by the wikimedia foudatio.',\n",
       " 'these other wikimedia projects iclude wiktioary a dictioary project lauched i december  wikiquote a collectio of quotatios created a week after wikimedia lauched wikibooks a collectio of collaboratively writte free textbooks ad aotated texts wikimedia commos a site devoted to free-kowledge multimedia wikiews for citize jouralism ad wikiversity a project for the creatio of free learig materials ad the provisio of olie learig activities.',\n",
       " ' aother sister project of wikipedia wikispecies is a catalogue of species.',\n",
       " 'i  wikivoyage a editable travel guide ad wikidata a editable kowledge base lauched.',\n",
       " 'the most obvious ecoomic effect of wikipedia has bee the death of commercial ecyclopedias especially the prited versios e.g.',\n",
       " 'ecyclopædia britaica which were uable to compete with a product that is essetially free.',\n",
       " \" nicholas carr wrote a  essay the amorality of web . that criticized websites with user-geerated cotet like wikipedia for possibly leadig to professioal ad i his view superior cotet producers' goig out of busiess because free trumps quality all the time.\",\n",
       " 'carr wrote implicit i the ecstatic visios of web . is the hegemoy of the amateur.',\n",
       " \"i for oe ca't imagie aythig more frighteig.\",\n",
       " ' others dispute the otio that wikipedia or similar efforts will etirely displace traditioal publicatios.',\n",
       " 'for istace chris aderso the editor-i-chief of wired magazie wrote i nature that the wisdom of crowds approach of wikipedia will ot displace top scietific jourals with their rigorous peer review process.',\n",
       " ' there is also a ogoig debate about the ifluece of wikipedia o the biography publishig busiess.',\n",
       " \"the worry is that if you ca get all that iformatio from wikipedia what's left for biography\",\n",
       " 'said kathry hughes professor of life writig at the uiversity of east aglia ad author of the short life ad log times of mrs beeto ad george eliot the last victoria.',\n",
       " ' wikipedia has bee widely used as a corpus for liguistic research i computatioal liguistics iformatio retrieval ad atural laguage processig.',\n",
       " 'i particular it commoly serves as a target kowledge base for the etity likig problem which is the called wikificatio ad to the related problem of word-sese disambiguatio.',\n",
       " ' methods similar to wikificatio ca i tur be used to fid missig liks i wikipedia.',\n",
       " ' i  frech researchers josé lages of the uiversity of frache-comté i besaço ad dima shepelyasky of paul sabatier uiversity i toulouse published a global uiversity rakig based o wikipedia scholarly citatios.',\n",
       " ' they used pagerak followed by the umber of appearaces i the  differet laguage editios of wikipedia descedig order ad the cetury i which they were fouded ascedig order.',\n",
       " ' a  mit study suggests that words used o wikipedia articles ed up i scietific publicatios.',\n",
       " ' studies related to wikipedia have bee usig machie learig ad artificial itelligece to support various operatios.',\n",
       " 'oe of the most importat areas—automatic detectio of vadalism ad data quality assessmet i wikipedia.',\n",
       " ' several iteractive multimedia ecyclopedias icorporatig etries writte by the public existed log before wikipedia was fouded.',\n",
       " 'the first of these was the  bbc domesday project which icluded text etered o bbc micro computers ad photographs from more tha a millio cotributors i the uk ad covered the geography art ad culture of the uk.',\n",
       " 'this was the first iteractive multimedia ecyclopedia ad was also the first major multimedia documet coected through iteral liks with the majority of articles beig accessible through a iteractive map of the uk.',\n",
       " 'the user iterface ad part of the cotet of the domesday project were emulated o a website util .',\n",
       " ' several free-cotet collaborative ecyclopedias were created aroud the same period as wikipedia e.g.',\n",
       " 'everythig with may later beig merged ito the project e.g.',\n",
       " 'gne.',\n",
       " ' oe of the most successful early olie ecyclopedias icorporatig etries by the public was hg which was created by douglas adams i .',\n",
       " 'the hg ecyclopedia is relatively lighthearted focusig o articles which are both witty ad iformative.',\n",
       " 'subsequet collaborative kowledge websites have draw ispiratio from wikipedia.',\n",
       " 'some such as susig.u eciclopedia libre hudog ad baidu baike likewise employ o formal review process although some like coservapedia are ot as ope.',\n",
       " 'others use more traditioal peer review such as ecyclopedia of life ad the olie wiki ecyclopedias scholarpedia ad citizedium.',\n",
       " 'the latter was started by sager i a attempt to create a reliable alterative to wikipedia.',\n",
       " ' machie learig ml is the study of computer algorithms that improve automatically through experiece.',\n",
       " ' it is see as a part of artificial itelligece.',\n",
       " 'machie learig algorithms build a model based o sample data kow as traiig data i order to make predictios or decisios without beig explicitly programmed to do so.',\n",
       " ' machie learig algorithms are used i a wide variety of applicatios such as email filterig ad computer visio where it is difficult or ufeasible to develop covetioal algorithms to perform the eeded tasks.',\n",
       " 'a subset of machie learig is closely related to computatioal statistics which focuses o makig predictios usig computers but ot all machie learig is statistical learig.',\n",
       " 'the study of mathematical optimizatio delivers methods theory ad applicatio domais to the field of machie learig.',\n",
       " 'data miig is a related field of study focusig o exploratory data aalysis through usupervised learig.',\n",
       " ' i its applicatio across busiess problems machie learig is also referred to as predictive aalytics.',\n",
       " 'machie learig ivolves computers discoverig how they ca perform tasks without beig explicitly programmed to do so.',\n",
       " 'it ivolves computers learig from data provided so that they carry out certai tasks.',\n",
       " \"for simple tasks assiged to computers it is possible to program algorithms tellig the machie how to execute all steps required to solve the problem at had o the computer's part o learig is eeded.\",\n",
       " 'for more advaced tasks it ca be challegig for a huma to maually create the eeded algorithms.',\n",
       " 'i practice it ca tur out to be more effective to help the machie develop its ow algorithm rather tha havig huma programmers specify every eeded step.',\n",
       " ' the disciplie of machie learig employs various approaches to teach computers to accomplish tasks where o fully satisfactory algorithm is available.',\n",
       " 'i cases where vast umbers of potetial aswers exist oe approach is to label some of the correct aswers as valid.',\n",
       " 'this ca the be used as traiig data for the computer to improve the algorithms it uses to determie correct aswers.',\n",
       " 'for example to trai a system for the task of digital character recogitio the mnist dataset of hadwritte digits has ofte bee used.',\n",
       " \" machie learig approaches are traditioally divided ito three broad categories depedig o the ature of the sigal or feedback available to the learig system other approaches have bee developed which do't fit eatly ito this three-fold categorisatio ad sometimes more tha oe is used by the same machie learig system.\",\n",
       " 'for example topic modelig dimesioality reductio or meta learig.',\n",
       " ' as of  deep learig has become the domiat approach for much ogoig work i the field of machie learig.',\n",
       " ' the term machie learig was coied i  by arthur samuel a america ibmer ad pioeer i the field of computer gamig ad artificial itelligece.',\n",
       " \" a represetative book of the machie learig research durig the s was the nilsso's book o learig machies dealig mostly with machie learig for patter classificatio.\",\n",
       " ' iterest related to patter recogitio cotiued ito the s as described by duda ad hart i .',\n",
       " ' i  a report was give o usig teachig strategies so that a eural etwork lears to recogize  characters  letters  digits ad  special symbols from a computer termial.',\n",
       " ' tom m. mitchell provided a widely quoted more formal defiitio of the algorithms studied i the machie learig field a computer program is said to lear from experiece e with respect to some class of tasks t ad performace measure p if its performace at tasks i t as measured by p  improves with experiece e. this defiitio of the tasks i which machie learig is cocered offers a fudametally operatioal defiitio rather tha defiig the field i cogitive terms.',\n",
       " \"this follows ala turig's proposal i his paper computig machiery ad itelligece i which the questio ca machies thik\",\n",
       " 'is replaced with the questio ca machies do what we as thikig etities ca do.',\n",
       " ' moder day machie learig has two objectives oe is to classify data based o models which have bee developed the other purpose is to make predictios for future outcomes based o these models.',\n",
       " 'a hypothetical algorithm specific to classifyig data may use computer visio of moles coupled with supervised learig i order to trai it to classify the cacerous moles.',\n",
       " 'where as a machie learig algorithm for stock tradig may iform the trader of future potetial predictios.',\n",
       " ' as a scietific edeavor machie learig grew out of the quest for artificial itelligece.',\n",
       " 'i the early days of ai as a academic disciplie some researchers were iterested i havig machies lear from data.',\n",
       " 'they attempted to approach the problem with various symbolic methods as well as what was the termed eural etworks these were mostly perceptros ad other models that were later foud to be reivetios of the geeralized liear models of statistics.',\n",
       " ' probabilistic reasoig was also employed especially i automated medical diagosis.',\n",
       " ' however a icreasig emphasis o the logical kowledge-based approach caused a rift betwee ai ad machie learig.',\n",
       " 'probabilistic systems were plagued by theoretical ad practical problems of data acquisitio ad represetatio.',\n",
       " ' by  expert systems had come to domiate ai ad statistics was out of favor.',\n",
       " ' work o symbolic/kowledge-based learig did cotiue withi ai leadig to iductive logic programmig but the more statistical lie of research was ow outside the field of ai proper i patter recogitio ad iformatio retrieval.',\n",
       " '–  neural etworks research had bee abadoed by ai ad computer sciece aroud the same time.',\n",
       " 'this lie too was cotiued outside the ai/cs field as coectioism by researchers from other disciplies icludig hopfield rumelhart ad hito.',\n",
       " 'their mai success came i the mid-s with the reivetio of backpropagatio.',\n",
       " ' machie learig ml reorgaized as a separate field started to flourish i the s.',\n",
       " 'the field chaged its goal from achievig artificial itelligece to tacklig solvable problems of a practical ature.',\n",
       " 'it shifted focus away from the symbolic approaches it had iherited from ai ad toward methods ad models borrowed from statistics ad probability theory.',\n",
       " ' as of  may sources cotiue to assert that machie learig remais a subfield of ai.',\n",
       " ' the mai disagreemet is whether all of ml is part of ai as this would mea that ayoe usig ml could claim they are usig ai.',\n",
       " \"others have the view that ot all of ml is part of ai where oly a 'itelliget' subset of ml is part of ai.\",\n",
       " ' the questio to what is the differece betwee ml ad ai is aswered by judea pearl i the book of why.',\n",
       " ' accordigly ml lears ad predicts based o passive observatios whereas ai implies a aget  iteractig with the eviromet to lear ad take actios that maximize its chace of successfully achievig its goals.',\n",
       " ' machie learig ad data miig ofte employ the same methods ad overlap sigificatly but while machie learig focuses o predictio based o kow properties leared from the traiig data data miig focuses o the discovery of previously ukow properties i the data this is the aalysis step of kowledge discovery i databases.',\n",
       " 'data miig uses may machie learig methods but with differet goals o the other had machie learig also employs data miig methods as usupervised learig or as a preprocessig step to improve learer accuracy.',\n",
       " 'much of the cofusio betwee these two research commuities which do ofte have separate cofereces ad separate jourals ecml pkdd beig a major exceptio comes from the basic assumptios they work with i machie learig performace is usually evaluated with respect to the ability to reproduce kow kowledge while i kowledge discovery ad data miig kdd the key task is the discovery of previously ukow kowledge.',\n",
       " 'evaluated with respect to kow kowledge a uiformed usupervised method will easily be outperformed by other supervised methods while i a typical kdd task supervised methods caot be used due to the uavailability of traiig data.',\n",
       " 'machie learig also has itimate ties to optimizatio may learig problems are formulated as miimizatio of some loss fuctio o a traiig set of examples.',\n",
       " 'loss fuctios express the discrepacy betwee the predictios of the model beig traied ad the actual problem istaces for example i classificatio oe wats to assig a label to istaces ad models are traied to correctly predict the pre-assiged labels of a set of examples.',\n",
       " ' the differece betwee optimizatio ad machie learig arises from the goal of geeralizatio while optimizatio algorithms ca miimize the loss o a traiig set machie learig is cocered with miimizig the loss o usee samples.',\n",
       " 'characterizig the geeralizatio of various learig algorithms is a active topic of curret research especially for deep learig algorithms.',\n",
       " 'machie learig ad statistics are closely related fields i terms of methods but distict i their pricipal goal statistics draws populatio ifereces from a sample while machie learig fids geeralizable predictive patters.',\n",
       " ' accordig to michael i. jorda the ideas of machie learig from methodological priciples to theoretical tools have had a log pre-history i statistics.',\n",
       " ' he also suggested the term data sciece as a placeholder to call the overall field.',\n",
       " ' leo breima distiguished two statistical modelig paradigms data model ad algorithmic model wherei algorithmic model meas more or less the machie learig algorithms like radom forest.',\n",
       " 'some statisticias have adopted methods from machie learig leadig to a combied field that they call statistical learig.',\n",
       " ' a core objective of a learer is to geeralize from its experiece.',\n",
       " ' geeralizatio i this cotext is the ability of a learig machie to perform accurately o ew usee examples/tasks after havig experieced a learig data set.',\n",
       " 'the traiig examples come from some geerally ukow probability distributio cosidered represetative of the space of occurreces ad the learer has to build a geeral model about this space that eables it to produce sufficietly accurate predictios i ew cases.',\n",
       " 'the computatioal aalysis of machie learig algorithms ad their performace is a brach of theoretical computer sciece kow as computatioal learig theory.',\n",
       " 'because traiig sets are fiite ad the future is ucertai learig theory usually does ot yield guaratees of the performace of algorithms.',\n",
       " 'istead probabilistic bouds o the performace are quite commo.',\n",
       " 'the bias–variace decompositio is oe way to quatify geeralizatio error.',\n",
       " 'for the best performace i the cotext of geeralizatio the complexity of the hypothesis should match the complexity of the fuctio uderlyig the data.',\n",
       " 'if the hypothesis is less complex tha the fuctio the the model has uder fitted the data.',\n",
       " 'if the complexity of the model is icreased i respose the the traiig error decreases.',\n",
       " 'but if the hypothesis is too complex the the model is subject to overfittig ad geeralizatio will be poorer.',\n",
       " ' i additio to performace bouds learig theorists study the time complexity ad feasibility of learig.',\n",
       " 'i computatioal learig theory a computatio is cosidered feasible if it ca be doe i polyomial time.',\n",
       " 'there are two kids of time complexity results.',\n",
       " 'positive results show that a certai class of fuctios ca be leared i polyomial time.',\n",
       " 'negative results show that certai classes caot be leared i polyomial time.',\n",
       " 'the types of machie learig algorithms differ i their approach the type of data they iput ad output ad the type of task or problem that they are iteded to solve.',\n",
       " 'supervised learig algorithms build a mathematical model of a set of data that cotais both the iputs ad the desired outputs.',\n",
       " ' the data is kow as traiig data ad cosists of a set of traiig examples.',\n",
       " 'each traiig example has oe or more iputs ad the desired output also kow as a supervisory sigal.',\n",
       " 'i the mathematical model each traiig example is represeted by a array or vector sometimes called a feature vector ad the traiig data is represeted by a matrix.',\n",
       " 'through iterative optimizatio of a objective fuctio supervised learig algorithms lear a fuctio that ca be used to predict the output associated with ew iputs.',\n",
       " ' a optimal fuctio will allow the algorithm to correctly determie the output for iputs that were ot a part of the traiig data.',\n",
       " 'a algorithm that improves the accuracy of its outputs or predictios over time is said to have leared to perform that task.',\n",
       " ' types of supervised learig algorithms iclude active learig classificatio ad regressio.',\n",
       " ' classificatio algorithms are used whe the outputs are restricted to a limited set of values ad regressio algorithms are used whe the outputs may have ay umerical value withi a rage.',\n",
       " 'as a example for a classificatio algorithm that filters emails the iput would be a icomig email ad the output would be the ame of the folder i which to file the email.',\n",
       " 'similarity learig is a area of supervised machie learig closely related to regressio ad classificatio but the goal is to lear from examples usig a similarity fuctio that measures how similar or related two objects are.',\n",
       " 'it has applicatios i rakig recommedatio systems visual idetity trackig face verificatio ad speaker verificatio.',\n",
       " 'usupervised learig algorithms take a set of data that cotais oly iputs ad fid structure i the data like groupig or clusterig of data poits.',\n",
       " 'the algorithms therefore lear from test data that has ot bee labeled classified or categorized.',\n",
       " 'istead of respodig to feedback usupervised learig algorithms idetify commoalities i the data ad react based o the presece or absece of such commoalities i each ew piece of data.',\n",
       " 'a cetral applicatio of usupervised learig is i the field of desity estimatio i statistics such as fidig the probability desity fuctio.',\n",
       " ' though usupervised learig ecompasses other domais ivolvig summarizig ad explaiig data features.',\n",
       " 'cluster aalysis is the assigmet of a set of observatios ito subsets called clusters so that observatios withi the same cluster are similar accordig to oe or more predesigated criteria while observatios draw from differet clusters are dissimilar.',\n",
       " 'differet clusterig techiques make differet assumptios o the structure of the data ofte defied by some similarity metric ad evaluated for example by iteral compactess or the similarity betwee members of the same cluster ad separatio the differece betwee clusters.',\n",
       " 'other methods are based o estimated desity ad graph coectivity.',\n",
       " 'semi-supervised learig falls betwee usupervised learig without ay labeled traiig data ad supervised learig with completely labeled traiig data.',\n",
       " 'some of the traiig examples are missig traiig labels  yet may machie-learig researchers have foud that ulabeled data whe used i cojuctio with a small amout of labeled data ca produce a cosiderable improvemet i learig accuracy.',\n",
       " 'i weakly supervised learig the traiig labels are oisy limited or imprecise however these labels are ofte cheaper to obtai resultig i larger effective traiig sets.',\n",
       " ' reiforcemet learig is a area of machie learig cocered with how software agets ought to take actios i a eviromet so as to maximize some otio of cumulative reward.',\n",
       " 'due to its geerality the field is studied i may other disciplies such as game theory cotrol theory operatios research iformatio theory simulatio-based optimizatio multi-aget systems swarm itelligece statistics ad geetic algorithms.',\n",
       " 'i machie learig the eviromet is typically represeted as a markov decisio process mdp.',\n",
       " 'may reiforcemet learig algorithms use dyamic programmig techiques.',\n",
       " ' reiforcemet learig algorithms do ot assume kowledge of a exact mathematical model of the mdp ad are used whe exact models are ifeasible.',\n",
       " 'reiforcemet learig algorithms are used i autoomous vehicles or i learig to play a game agaist a huma oppoet.',\n",
       " 'self-learig as a machie learig paradigm was itroduced i  alog with a eural etwork capable of self-learig amed crossbar adaptive array caa.',\n",
       " ' it is a learig with o exteral rewards ad o exteral teacher advice.',\n",
       " 'the caa self-learig algorithm computes i a crossbar fashio both decisios about actios ad emotios feeligs about cosequece situatios.',\n",
       " 'the system is drive by the iteractio betwee cogitio ad emotio.',\n",
       " '\\nthe self-learig algorithm updates a memory matrix w =||was|| such that i each iteratio executes the followig machie learig routie it is a system with oly oe iput situatio s ad oly oe output actio or behavior a.',\n",
       " 'there is either a separate reiforcemet iput or a advice iput from the eviromet.',\n",
       " 'the backpropagated value secodary reiforcemet is the emotio toward the cosequece situatio.',\n",
       " 'the caa exists i two eviromets oe is the behavioral eviromet where it behaves ad the other is the geetic eviromet wherefrom it iitially ad oly oce receives iitial emotios about situatios to be ecoutered i the behavioral eviromet.',\n",
       " 'after receivig the geome species vector from the geetic eviromet the caa lears a goal-seekig behavior i a eviromet that cotais both desirable ad udesirable situatios.',\n",
       " ' several learig algorithms aim at discoverig better represetatios of the iputs provided durig traiig.',\n",
       " ' classic examples iclude pricipal compoets aalysis ad cluster aalysis.',\n",
       " 'feature learig algorithms also called represetatio learig algorithms ofte attempt to preserve the iformatio i their iput but also trasform it i a way that makes it useful ofte as a pre-processig step before performig classificatio or predictios.',\n",
       " 'this techique allows recostructio of the iputs comig from the ukow data-geeratig distributio while ot beig ecessarily faithful to cofiguratios that are implausible uder that distributio.',\n",
       " 'this replaces maual feature egieerig ad allows a machie to both lear the features ad use them to perform a specific task.',\n",
       " 'feature learig ca be either supervised or usupervised.',\n",
       " 'i supervised feature learig features are leared usig labeled iput data.',\n",
       " 'examples iclude artificial eural etworks multilayer perceptros ad supervised dictioary learig.',\n",
       " 'i usupervised feature learig features are leared with ulabeled iput data.',\n",
       " 'examples iclude dictioary learig idepedet compoet aalysis autoecoders matrix factorizatio ad various forms of clusterig.',\n",
       " ' maifold learig algorithms attempt to do so uder the costrait that the leared represetatio is low-dimesioal.',\n",
       " 'sparse codig algorithms attempt to do so uder the costrait that the leared represetatio is sparse meaig that the mathematical model has may zeros.',\n",
       " 'multiliear subspace learig algorithms aim to lear low-dimesioal represetatios directly from tesor represetatios for multidimesioal data without reshapig them ito higher-dimesioal vectors.',\n",
       " ' deep learig algorithms discover multiple levels of represetatio or a hierarchy of features with higher-level more abstract features defied i terms of or geeratig lower-level features.',\n",
       " 'it has bee argued that a itelliget machie is oe that lears a represetatio that disetagles the uderlyig factors of variatio that explai the observed data.',\n",
       " ' feature learig is motivated by the fact that machie learig tasks such as classificatio ofte require iput that is mathematically ad computatioally coveiet to process.',\n",
       " 'however real-world data such as images video ad sesory data has ot yielded to attempts to algorithmically defie specific features.',\n",
       " 'a alterative is to discover such features or represetatios thorough examiatio without relyig o explicit algorithms.',\n",
       " 'sparse dictioary learig is a feature learig method where a traiig example is represeted as a liear combiatio of basis fuctios ad is assumed to be a sparse matrix.',\n",
       " 'the method is strogly np-hard ad difficult to solve approximately.',\n",
       " ' a popular heuristic method for sparse dictioary learig is the k-svd algorithm.',\n",
       " 'sparse dictioary learig has bee applied i several cotexts.',\n",
       " 'i classificatio the problem is to determie the class to which a previously usee traiig example belogs.',\n",
       " 'for a dictioary where each class has already bee built a ew traiig example is associated with the class that is best sparsely represeted by the correspodig dictioary.',\n",
       " 'sparse dictioary learig has also bee applied i image de-oisig.',\n",
       " 'the key idea is that a clea image patch ca be sparsely represeted by a image dictioary but the oise caot.',\n",
       " ' i data miig aomaly detectio also kow as outlier detectio is the idetificatio of rare items evets or observatios which raise suspicios by differig sigificatly from the majority of the data.',\n",
       " ' typically the aomalous items represet a issue such as bak fraud a structural defect medical problems or errors i a text.',\n",
       " 'aomalies are referred to as outliers ovelties oise deviatios ad exceptios.',\n",
       " ' i particular i the cotext of abuse ad etwork itrusio detectio the iterestig objects are ofte ot rare objects but uexpected bursts of iactivity.',\n",
       " 'this patter does ot adhere to the commo statistical defiitio of a outlier as a rare object ad may outlier detectio methods i particular usupervised algorithms will fail o such data uless it has bee aggregated appropriately.',\n",
       " 'istead a cluster aalysis algorithm may be able to detect the micro-clusters formed by these patters.',\n",
       " ' three broad categories of aomaly detectio techiques exist.',\n",
       " ' usupervised aomaly detectio techiques detect aomalies i a ulabeled test data set uder the assumptio that the majority of the istaces i the data set are ormal by lookig for istaces that seem to fit least to the remaider of the data set.',\n",
       " 'supervised aomaly detectio techiques require a data set that has bee labeled as ormal ad abormal ad ivolves traiig a classifier the key differece to may other statistical classificatio problems is the iheretly ubalaced ature of outlier detectio.',\n",
       " 'semi-supervised aomaly detectio techiques costruct a model represetig ormal behavior from a give ormal traiig data set ad the test the likelihood of a test istace to be geerated by the model.',\n",
       " 'i developmetal robotics robot learig algorithms geerate their ow sequeces of learig experieces also kow as a curriculum to cumulatively acquire ew skills through self-guided exploratio ad social iteractio with humas.',\n",
       " 'these robots use guidace mechaisms such as active learig maturatio motor syergies ad imitatio.',\n",
       " 'associatio rule learig is a rule-based machie learig method for discoverig relatioships betwee variables i large databases.',\n",
       " 'it is iteded to idetify strog rules discovered i databases usig some measure of iterestigess.',\n",
       " ' rule-based machie learig is a geeral term for ay machie learig method that idetifies lears or evolves rules to store maipulate or apply kowledge.',\n",
       " 'the defiig characteristic of a rule-based machie learig algorithm is the idetificatio ad utilizatio of a set of relatioal rules that collectively represet the kowledge captured by the system.',\n",
       " 'this is i cotrast to other machie learig algorithms that commoly idetify a sigular model that ca be uiversally applied to ay istace i order to make a predictio.',\n",
       " ' rule-based machie learig approaches iclude learig classifier systems associatio rule learig ad artificial immue systems.',\n",
       " 'based o the cocept of strog rules rakesh agrawal tomasz imieliński ad aru swami itroduced associatio rules for discoverig regularities betwee products i large-scale trasactio data recorded by poit-of-sale pos systems i supermarkets.',\n",
       " ' for example the rule \\n\\n\\n\\n{\\n\\no\\n\\ni\\no\\n\\ns\\n\\np\\no\\nt\\na\\nt\\no\\ne\\ns\\n\\n}\\n⇒\\n{\\n\\nb\\nu\\nr\\ng\\ne\\nr\\n\\n}\\n\\n\\n{\\\\displaystyle \\\\{\\\\mathrm {oiospotatoes} \\\\}\\\\rightarrow \\\\{\\\\mathrm {burger} \\\\}}\\n\\n foud i the sales data of a supermarket would idicate that if a customer buys oios ad potatoes together they are likely to also buy hamburger meat.',\n",
       " 'such iformatio ca be used as the basis for decisios about marketig activities such as promotioal pricig or product placemets.',\n",
       " 'i additio to market basket aalysis associatio rules are employed today i applicatio areas icludig web usage miig itrusio detectio cotiuous productio ad bioiformatics.',\n",
       " 'i cotrast with sequece miig associatio rule learig typically does ot cosider the order of items either withi a trasactio or across trasactios.',\n",
       " 'learig classifier systems lcs are a family of rule-based machie learig algorithms that combie a discovery compoet typically a geetic algorithm with a learig compoet performig either supervised learig reiforcemet learig or usupervised learig.',\n",
       " 'they seek to idetify a set of cotext-depedet rules that collectively store ad apply kowledge i a piecewise maer i order to make predictios.',\n",
       " ' iductive logic programmig ilp is a approach to rule-learig usig logic programmig as a uiform represetatio for iput examples backgroud kowledge ad hypotheses.',\n",
       " 'give a ecodig of the kow backgroud kowledge ad a set of examples represeted as a logical database of facts a ilp system will derive a hypothesized logic program that etails all positive ad o egative examples.',\n",
       " 'iductive programmig is a related field that cosiders ay kid of programmig laguage for represetig hypotheses ad ot oly logic programmig such as fuctioal programs.',\n",
       " 'iductive logic programmig is particularly useful i bioiformatics ad atural laguage processig.',\n",
       " 'gordo plotki ad ehud shapiro laid the iitial theoretical foudatio for iductive machie learig i a logical settig.',\n",
       " ' shapiro built their first implemetatio model iferece system i  a prolog program that iductively iferred logic programs from positive ad egative examples.',\n",
       " ' the term iductive here refers to philosophical iductio suggestig a theory to explai observed facts rather tha mathematical iductio provig a property for all members of a well-ordered set.',\n",
       " 'performig machie learig ivolves creatig a model which is traied o some traiig data ad the ca process additioal data to make predictios.',\n",
       " 'various types of models have bee used ad researched for machie learig systems.',\n",
       " 'artificial eural etworks anns or coectioist systems are computig systems vaguely ispired by the biological eural etworks that costitute aimal brais.',\n",
       " 'such systems lear to perform tasks by cosiderig examples geerally without beig programmed with ay task-specific rules.',\n",
       " 'a ann is a model based o a collectio of coected uits or odes called artificial euros which loosely model the euros i a biological brai.',\n",
       " 'each coectio like the syapses i a biological brai ca trasmit iformatio a sigal from oe artificial euro to aother.',\n",
       " 'a artificial euro that receives a sigal ca process it ad the sigal additioal artificial euros coected to it.',\n",
       " 'i commo ann implemetatios the sigal at a coectio betwee artificial euros is a real umber ad the output of each artificial euro is computed by some o-liear fuctio of the sum of its iputs.',\n",
       " 'the coectios betwee artificial euros are called edges.',\n",
       " 'artificial euros ad edges typically have a weight that adjusts as learig proceeds.',\n",
       " 'the weight icreases or decreases the stregth of the sigal at a coectio.',\n",
       " 'artificial euros may have a threshold such that the sigal is oly set if the aggregate sigal crosses that threshold.',\n",
       " 'typically artificial euros are aggregated ito layers.',\n",
       " 'differet layers may perform differet kids of trasformatios o their iputs.',\n",
       " 'sigals travel from the first layer the iput layer to the last layer the output layer possibly after traversig the layers multiple times.',\n",
       " 'the origial goal of the ann approach was to solve problems i the same way that a huma brai would.',\n",
       " 'however over time attetio moved to performig specific tasks leadig to deviatios from biology.',\n",
       " 'artificial eural etworks have bee used o a variety of tasks icludig computer visio speech recogitio machie traslatio social etwork filterig playig board ad video games ad medical diagosis.',\n",
       " 'deep learig cosists of multiple hidde layers i a artificial eural etwork.',\n",
       " 'this approach tries to model the way the huma brai processes light ad soud ito visio ad hearig.',\n",
       " 'some successful applicatios of deep learig are computer visio ad speech recogitio.',\n",
       " \" decisio tree learig uses a decisio tree as a predictive model to go from observatios about a item represeted i the braches to coclusios about the item's target value represeted i the leaves.\",\n",
       " 'it is oe of the predictive modelig approaches used i statistics data miig ad machie learig.',\n",
       " 'tree models where the target variable ca take a discrete set of values are called classificatio trees i these tree structures leaves represet class labels ad braches represet cojuctios of features that lead to those class labels.',\n",
       " 'decisio trees where the target variable ca take cotiuous values typically real umbers are called regressio trees.',\n",
       " 'i decisio aalysis a decisio tree ca be used to visually ad explicitly represet decisios ad decisio makig.',\n",
       " 'i data miig a decisio tree describes data but the resultig classificatio tree ca be a iput for decisio makig.',\n",
       " 'support vector machies svms also kow as support vector etworks are a set of related supervised learig methods used for classificatio ad regressio.',\n",
       " 'give a set of traiig examples each marked as belogig to oe of two categories a svm traiig algorithm builds a model that predicts whether a ew example falls ito oe category or the other.',\n",
       " '  a svm traiig algorithm is a o-probabilistic biary liear classifier although methods such as platt scalig exist to use svm i a probabilistic classificatio settig.',\n",
       " 'i additio to performig liear classificatio svms ca efficietly perform a o-liear classificatio usig what is called the kerel trick implicitly mappig their iputs ito high-dimesioal feature spaces.',\n",
       " 'regressio aalysis ecompasses a large variety of statistical methods to estimate the relatioship betwee iput variables ad their associated features.',\n",
       " 'its most commo form is liear regressio where a sigle lie is draw to best fit the give data accordig to a mathematical criterio such as ordiary least squares.',\n",
       " 'the latter is ofte exteded by regularizatio mathematics methods to mitigate overfittig ad bias as i ridge regressio.',\n",
       " 'whe dealig with o-liear problems go-to models iclude polyomial regressio for example used for tredlie fittig i microsoft excel logistic regressio ofte used i statistical classificatio or eve kerel regressio which itroduces o-liearity by takig advatage of the kerel trick to implicitly map iput variables to higher-dimesioal space.',\n",
       " 'a bayesia etwork belief etwork or directed acyclic graphical model is a probabilistic graphical model that represets a set of radom variables ad their coditioal idepedece with a directed acyclic graph dag.',\n",
       " 'for example a bayesia etwork could represet the probabilistic relatioships betwee diseases ad symptoms.',\n",
       " 'give symptoms the etwork ca be used to compute the probabilities of the presece of various diseases.',\n",
       " 'efficiet algorithms exist that perform iferece ad learig.',\n",
       " 'bayesia etworks that model sequeces of variables like speech sigals or protei sequeces are called dyamic bayesia etworks.',\n",
       " 'geeralizatios of bayesia etworks that ca represet ad solve decisio problems uder ucertaity are called ifluece diagrams.',\n",
       " 'a geetic algorithm ga is a search algorithm ad heuristic techique that mimics the process of atural selectio usig methods such as mutatio ad crossover to geerate ew geotypes i the hope of fidig good solutios to a give problem.',\n",
       " 'i machie learig geetic algorithms were used i the s ad s.',\n",
       " ' coversely machie learig techiques have bee used to improve the performace of geetic ad evolutioary algorithms.',\n",
       " ' usually machie learig models require a lot of data i order for them to perform well.',\n",
       " 'usually whe traiig a machie learig model oe eeds to collect a large represetative sample of data from a traiig set.',\n",
       " 'data from the traiig set ca be as varied as a corpus of text a collectio of images ad data collected from idividual users of a service.',\n",
       " 'overfittig is somethig to watch out for whe traiig a machie learig model.',\n",
       " 'traied models derived from biased data ca result i skewed or udesired predictios.',\n",
       " 'algorithmic bias is a potetial result from data ot fully prepared for traiig.',\n",
       " \"federated learig is a adapted form of distributed artificial itelligece to traiig machie learig models that decetralizes the traiig process allowig for users' privacy to be maitaied by ot eedig to sed their data to a cetralized server.\",\n",
       " 'this also icreases efficiecy by decetralizig the traiig process to may devices.',\n",
       " \"for example gboard uses federated machie learig to trai search query predictio models o users' mobile phoes without havig to sed idividual searches back to google.\",\n",
       " ' there are may applicatios for machie learig icludig i  the media-services provider netflix held the first netflix prize competitio to fid a program to better predict user prefereces ad improve the accuracy of its existig ciematch movie recommedatio algorithm by at least .',\n",
       " 'a joit team made up of researchers from at&t labs-research i collaboratio with the teams big chaos ad pragmatic theory built a esemble model to wi the grad prize i  for \\xa0millio.',\n",
       " \" shortly after the prize was awarded netflix realized that viewers' ratigs were ot the best idicators of their viewig patters everythig is a recommedatio ad they chaged their recommedatio egie accordigly.\",\n",
       " ' i  the wall street joural wrote about the firm rebellio research ad their use of machie learig to predict the fiacial crisis.',\n",
       " \" i  co-fouder of su microsystems viod khosla predicted that  of medical doctors' jobs would be lost i the ext two decades to automated machie learig medical diagostic software.\",\n",
       " ' i  it was reported that a machie learig algorithm had bee applied i the field of art history to study fie art paitigs ad that it may have revealed previously urecogized iflueces amog artists.',\n",
       " ' i  spriger nature published the first research book created usig machie learig.',\n",
       " ' although machie learig has bee trasformative i some fields machie-learig programs ofte fail to deliver expected results.',\n",
       " ' reasos for this are umerous lack of suitable data lack of access to the data data bias privacy problems badly chose tasks ad algorithms wrog tools ad people lack of resources ad evaluatio problems.',\n",
       " ' i  a self-drivig car from uber failed to detect a pedestria who was killed after a collisio.',\n",
       " ' attempts to use machie learig i healthcare with the ibm watso system failed to deliver eve after years of time ad billios of dollars ivested.',\n",
       " ' machie learig has bee used as a strategy to update the evidece related to systematic review ad icreased reviewer burde related to the growth of biomedical literature.',\n",
       " 'while it has improved with traiig sets it has ot yet developed sufficietly to reduce the workload burde without limitig the ecessary sesitivity for the fidigs research themselves.',\n",
       " ' machie learig approaches i particular ca suffer from differet data biases.',\n",
       " 'a machie learig system traied o curret customers oly may ot be able to predict the eeds of ew customer groups that are ot represeted i the traiig data.',\n",
       " ...]"
      ]
     },
     "execution_count": 16,
     "metadata": {},
     "output_type": "execute_result"
    }
   ],
   "source": [
    "data_list"
   ]
  },
  {
   "cell_type": "code",
   "execution_count": 17,
   "metadata": {},
   "outputs": [],
   "source": [
    "x\n",
    "w=x"
   ]
  },
  {
   "cell_type": "markdown",
   "metadata": {},
   "source": [
    "# Using bag of words and Navie Bayes algo"
   ]
  },
  {
   "cell_type": "code",
   "execution_count": 18,
   "metadata": {},
   "outputs": [],
   "source": [
    "from sklearn.feature_extraction.text import CountVectorizer\n",
    "cv = CountVectorizer()\n",
    "w = cv.fit_transform(data_list).toarray()"
   ]
  },
  {
   "cell_type": "code",
   "execution_count": 19,
   "metadata": {},
   "outputs": [
    {
     "data": {
      "text/plain": [
       "array([[0, 0, 0, ..., 0, 0, 0],\n",
       "       [0, 0, 0, ..., 0, 0, 0],\n",
       "       [0, 0, 0, ..., 0, 0, 0],\n",
       "       ...,\n",
       "       [0, 0, 0, ..., 0, 0, 0],\n",
       "       [0, 0, 0, ..., 0, 0, 0],\n",
       "       [0, 0, 0, ..., 0, 0, 0]])"
      ]
     },
     "execution_count": 19,
     "metadata": {},
     "output_type": "execute_result"
    }
   ],
   "source": [
    "w"
   ]
  },
  {
   "cell_type": "code",
   "execution_count": 20,
   "metadata": {},
   "outputs": [
    {
     "data": {
      "text/plain": [
       "(10337, 38665)"
      ]
     },
     "execution_count": 20,
     "metadata": {},
     "output_type": "execute_result"
    }
   ],
   "source": [
    "w.shape"
   ]
  },
  {
   "cell_type": "code",
   "execution_count": 21,
   "metadata": {},
   "outputs": [],
   "source": [
    "from sklearn.model_selection import train_test_split\n",
    "x_train, x_test, y_train, y_test = train_test_split(w, z, test_size = 0.20)"
   ]
  },
  {
   "cell_type": "code",
   "execution_count": 22,
   "metadata": {},
   "outputs": [
    {
     "data": {
      "text/plain": [
       "MultinomialNB()"
      ]
     },
     "execution_count": 22,
     "metadata": {},
     "output_type": "execute_result"
    }
   ],
   "source": [
    "from sklearn.naive_bayes import MultinomialNB\n",
    "model = MultinomialNB()\n",
    "model.fit(x_train, y_train)"
   ]
  },
  {
   "cell_type": "code",
   "execution_count": 23,
   "metadata": {},
   "outputs": [],
   "source": [
    "y_pred = model.predict(x_test)"
   ]
  },
  {
   "cell_type": "code",
   "execution_count": 24,
   "metadata": {},
   "outputs": [
    {
     "data": {
      "text/plain": [
       "array([ 1, 15, 12, ...,  3, 14, 12])"
      ]
     },
     "execution_count": 24,
     "metadata": {},
     "output_type": "execute_result"
    }
   ],
   "source": [
    "y_pred"
   ]
  },
  {
   "cell_type": "code",
   "execution_count": 25,
   "metadata": {},
   "outputs": [],
   "source": [
    "from sklearn.metrics import accuracy_score, confusion_matrix, classification_report\n",
    "ac = accuracy_score(y_test, y_pred)\n",
    "cm = confusion_matrix(y_test, y_pred)"
   ]
  },
  {
   "cell_type": "code",
   "execution_count": 26,
   "metadata": {},
   "outputs": [
    {
     "name": "stdout",
     "output_type": "stream",
     "text": [
      "Accuracy is :97.72727272727273 %\n"
     ]
    }
   ],
   "source": [
    "print(f\"Accuracy is :{ac*100} %\")"
   ]
  },
  {
   "cell_type": "code",
   "execution_count": 27,
   "metadata": {},
   "outputs": [
    {
     "name": "stdout",
     "output_type": "stream",
     "text": [
      "{0, 1, 2, 3, 4, 5, 6, 7, 8, 9, 10, 11, 12, 13, 14, 15, 16}\n",
      "['Arabic' 'Danish' 'Dutch' 'English' 'French' 'German' 'Greek' 'Hindi'\n",
      " 'Italian' 'Kannada' 'Malayalam' 'Portugeese' 'Russian' 'Spanish'\n",
      " 'Sweedish' 'Tamil' 'Turkish']\n"
     ]
    }
   ],
   "source": [
    "setoflbs=set(z)\n",
    "print(setoflbs)\n",
    "newlbs=lbe.inverse_transform(list(setoflbs))\n",
    "print(newlbs)"
   ]
  },
  {
   "cell_type": "code",
   "execution_count": 28,
   "metadata": {},
   "outputs": [
    {
     "data": {
      "image/png": "[encoded data removed]",
      "text/plain": [
       "<Figure size 1800x1440 with 2 Axes>"
      ]
     },
     "metadata": {
      "needs_background": "light"
     },
     "output_type": "display_data"
    }
   ],
   "source": [
    "plt.figure(figsize=(25,20))\n",
    "tick_marks = np.arange(len(newlbs))\n",
    "sns.heatmap(cm, annot = True)\n",
    "plt.xticks(tick_marks, newlbs,rotation=90)\n",
    "plt.yticks(tick_marks, newlbs,rotation=0)\n",
    "plt.show()"
   ]
  },
  {
   "cell_type": "code",
   "execution_count": 29,
   "metadata": {},
   "outputs": [],
   "source": [
    "def predict(text):\n",
    "     x = cv.transform([text]).toarray() # converting text to bag of words model (Vector)\n",
    "     lang = model.predict(x) # predicting the language\n",
    "     lang = lbe.inverse_transform(lang) # finding the language corresponding the the predicted value\n",
    "     print(\"The langauge is in\",lang[0]) # printing the language"
   ]
  },
  {
   "cell_type": "code",
   "execution_count": 30,
   "metadata": {},
   "outputs": [
    {
     "name": "stdout",
     "output_type": "stream",
     "text": [
      "The langauge is in English\n"
     ]
    }
   ],
   "source": [
    "predict(\"provides a community based knowledge portal for Analytics and Data Science professionals\")"
   ]
  },
  {
   "cell_type": "code",
   "execution_count": 31,
   "metadata": {},
   "outputs": [
    {
     "name": "stdout",
     "output_type": "stream",
     "text": [
      "The langauge is in Arabic\n"
     ]
    }
   ],
   "source": [
    "predict(\"توفر  بوابة معرفية قائمة على المجتمع لمحترفي التحليلات وعلوم البيانات\")\n"
   ]
  },
  {
   "cell_type": "code",
   "execution_count": 32,
   "metadata": {},
   "outputs": [
    {
     "name": "stdout",
     "output_type": "stream",
     "text": [
      "The langauge is in Malayalam\n"
     ]
    }
   ],
   "source": [
    "predict(\"അനലിറ്റിക്സ്, ഡാറ്റാ സയൻസ് പ്രൊഫഷണലുകൾക്കായി കമ്മ്യൂണിറ്റി അധിഷ്ഠിത വിജ്ഞാന പോർട്ടൽ അനലിറ്റിക്സ് വിദ്യ നൽകുന്നു\")"
   ]
  },
  {
   "cell_type": "code",
   "execution_count": 33,
   "metadata": {},
   "outputs": [
    {
     "name": "stdout",
     "output_type": "stream",
     "text": [
      "The langauge is in Russian\n"
     ]
    }
   ],
   "source": [
    "predict(\"Амит отличный парень\")"
   ]
  },
  {
   "cell_type": "code",
   "execution_count": 34,
   "metadata": {},
   "outputs": [
    {
     "name": "stdout",
     "output_type": "stream",
     "text": [
      "The langauge is in Turkish\n"
     ]
    }
   ],
   "source": [
    "predict(\"amit harika bir adam\")"
   ]
  },
  {
   "cell_type": "code",
   "execution_count": 35,
   "metadata": {},
   "outputs": [
    {
     "name": "stdout",
     "output_type": "stream",
     "text": [
      "The langauge is in Hindi\n"
     ]
    }
   ],
   "source": [
    "predict(\"अमित बहुत अच्छा लड़का है\")"
   ]
  },
  {
   "cell_type": "code",
   "execution_count": 36,
   "metadata": {},
   "outputs": [
    {
     "name": "stdout",
     "output_type": "stream",
     "text": [
      "The langauge is in English\n"
     ]
    }
   ],
   "source": [
    "predict(\"is fear iontach é amit\")"
   ]
  },
  {
   "cell_type": "markdown",
   "metadata": {},
   "source": [
    "# Using Bag of words and Logistic regression"
   ]
  },
  {
   "cell_type": "code",
   "execution_count": 37,
   "metadata": {},
   "outputs": [
    {
     "data": {
      "text/plain": [
       "LogisticRegression()"
      ]
     },
     "execution_count": 37,
     "metadata": {},
     "output_type": "execute_result"
    }
   ],
   "source": [
    "from sklearn.linear_model import LogisticRegression\n",
    "model3=LogisticRegression()\n",
    "model3.fit(x_train, y_train)"
   ]
  },
  {
   "cell_type": "code",
   "execution_count": 38,
   "metadata": {},
   "outputs": [],
   "source": [
    "yl_pred = model3.predict(x_test)"
   ]
  },
  {
   "cell_type": "code",
   "execution_count": 39,
   "metadata": {},
   "outputs": [],
   "source": [
    "ac3 = accuracy_score(y_test, yl_pred)\n",
    "cm3 = confusion_matrix(y_test, yl_pred)"
   ]
  },
  {
   "cell_type": "code",
   "execution_count": 40,
   "metadata": {},
   "outputs": [
    {
     "name": "stdout",
     "output_type": "stream",
     "text": [
      "Accuracy is :95.6963249516441 %\n"
     ]
    }
   ],
   "source": [
    "print(f\"Accuracy is :{ac3*100} %\")"
   ]
  },
  {
   "cell_type": "code",
   "execution_count": 41,
   "metadata": {},
   "outputs": [
    {
     "data": {
      "image/png": "[encoded data removed]",
      "text/plain": [
       "<Figure size 1800x1440 with 2 Axes>"
      ]
     },
     "metadata": {
      "needs_background": "light"
     },
     "output_type": "display_data"
    }
   ],
   "source": [
    "plt.figure(figsize=(25,20))\n",
    "tick_marks = np.arange(len(newlbs))\n",
    "sns.heatmap(cm3, annot = True)\n",
    "plt.xticks(tick_marks, newlbs,rotation=90)\n",
    "plt.yticks(tick_marks, newlbs,rotation=0)\n",
    "plt.show()"
   ]
  },
  {
   "cell_type": "code",
   "execution_count": 42,
   "metadata": {},
   "outputs": [],
   "source": [
    "def predict3(text):\n",
    "     x = cv.transform([text]).toarray() # converting text to bag of words model (Vector)\n",
    "     lang = model3.predict(x) # predicting the language\n",
    "     lang = lbe.inverse_transform(lang) # finding the language corresponding the the predicted value\n",
    "     print(\"The langauge is in\",lang[0]) # printing the language"
   ]
  },
  {
   "cell_type": "code",
   "execution_count": 43,
   "metadata": {},
   "outputs": [
    {
     "name": "stdout",
     "output_type": "stream",
     "text": [
      "The langauge is in English\n"
     ]
    }
   ],
   "source": [
    "predict3(\"provides a community based knowledge portal for Analytics and Data Science professionals\")"
   ]
  },
  {
   "cell_type": "code",
   "execution_count": 44,
   "metadata": {},
   "outputs": [
    {
     "name": "stdout",
     "output_type": "stream",
     "text": [
      "The langauge is in Arabic\n"
     ]
    }
   ],
   "source": [
    "predict3(\"توفر  بوابة معرفية قائمة على المجتمع لمحترفي التحليلات وعلوم البيانات\")"
   ]
  },
  {
   "cell_type": "code",
   "execution_count": 45,
   "metadata": {},
   "outputs": [
    {
     "name": "stdout",
     "output_type": "stream",
     "text": [
      "The langauge is in Malayalam\n"
     ]
    }
   ],
   "source": [
    "predict(\"അനലിറ്റിക്സ്, ഡാറ്റാ സയൻസ് പ്രൊഫഷണലുകൾക്കായി കമ്മ്യൂണിറ്റി അധിഷ്ഠിത വിജ്ഞാന പോർട്ടൽ അനലിറ്റിക്സ് വിദ്യ നൽകുന്നു\")"
   ]
  },
  {
   "cell_type": "code",
   "execution_count": 46,
   "metadata": {},
   "outputs": [
    {
     "name": "stdout",
     "output_type": "stream",
     "text": [
      "The langauge is in Turkish\n"
     ]
    }
   ],
   "source": [
    "predict3(\"Амит отличный парень\")"
   ]
  },
  {
   "cell_type": "markdown",
   "metadata": {},
   "source": [
    "## Following predictions are the corner cases of the above model"
   ]
  },
  {
   "cell_type": "code",
   "execution_count": 47,
   "metadata": {},
   "outputs": [
    {
     "name": "stdout",
     "output_type": "stream",
     "text": [
      "The langauge is in Turkish\n"
     ]
    }
   ],
   "source": [
    "predict3(\"अमित बहुत अच्छा लड़का है\")"
   ]
  },
  {
   "cell_type": "markdown",
   "metadata": {},
   "source": [
    "# Using TF-IDF and Naive Bayes algo"
   ]
  },
  {
   "cell_type": "code",
   "execution_count": 48,
   "metadata": {},
   "outputs": [],
   "source": [
    "from sklearn.feature_extraction.text import TfidfVectorizer\n",
    "tf=TfidfVectorizer(ngram_range=(1,3), analyzer='char')\n",
    "t=tf.fit_transform(data_list).toarray()\n"
   ]
  },
  {
   "cell_type": "code",
   "execution_count": 49,
   "metadata": {},
   "outputs": [],
   "source": [
    "x2_train, x2_test, y2_train, y2_test = train_test_split(t, z, test_size = 0.20)"
   ]
  },
  {
   "cell_type": "code",
   "execution_count": 50,
   "metadata": {},
   "outputs": [],
   "source": [
    "model2 = MultinomialNB()\n",
    "model2.fit(x2_train, y2_train)\n",
    "y2_pred = model2.predict(x2_test)"
   ]
  },
  {
   "cell_type": "code",
   "execution_count": 51,
   "metadata": {},
   "outputs": [
    {
     "name": "stdout",
     "output_type": "stream",
     "text": [
      "Accuracy is :81.33462282398453 %\n"
     ]
    }
   ],
   "source": [
    "ac2 = accuracy_score(y2_test, y2_pred)\n",
    "print(f\"Accuracy is :{ac2*100} %\")"
   ]
  },
  {
   "cell_type": "code",
   "execution_count": 52,
   "metadata": {},
   "outputs": [],
   "source": [
    "cm2 = confusion_matrix(y2_test, y2_pred)"
   ]
  },
  {
   "cell_type": "code",
   "execution_count": 53,
   "metadata": {},
   "outputs": [
    {
     "name": "stdout",
     "output_type": "stream",
     "text": [
      "{0, 1, 2, 3, 4, 5, 6, 7, 8, 9, 10, 11, 12, 13, 14, 15, 16}\n",
      "['Arabic' 'Danish' 'Dutch' 'English' 'French' 'German' 'Greek' 'Hindi'\n",
      " 'Italian' 'Kannada' 'Malayalam' 'Portugeese' 'Russian' 'Spanish'\n",
      " 'Sweedish' 'Tamil' 'Turkish']\n"
     ]
    }
   ],
   "source": [
    "setoflbs=set(z)\n",
    "print(setoflbs)\n",
    "newlbs=lbe.inverse_transform(list(setoflbs))\n",
    "print(newlbs)"
   ]
  },
  {
   "cell_type": "code",
   "execution_count": 54,
   "metadata": {},
   "outputs": [
    {
     "data": {
      "image/png": "[encoded data removed]",
      "text/plain": [
       "<Figure size 1800x1440 with 2 Axes>"
      ]
     },
     "metadata": {
      "needs_background": "light"
     },
     "output_type": "display_data"
    }
   ],
   "source": [
    "plt.figure(figsize=(25,20))\n",
    "tick_marks = np.arange(len(newlbs))\n",
    "sns.heatmap(cm2, annot = True)\n",
    "plt.xticks(tick_marks, newlbs,rotation=90)\n",
    "plt.yticks(tick_marks, newlbs,rotation=0)\n",
    "plt.show()"
   ]
  },
  {
   "cell_type": "code",
   "execution_count": 58,
   "metadata": {},
   "outputs": [],
   "source": [
    "def predict2(text):\n",
    "     x = tf.transform([text]).toarray() # converting text to bag of words model (Vector)\n",
    "     lang = model2.predict(x) # predicting the language\n",
    "     lang = lbe.inverse_transform(lang) # finding the language corresponding the the predicted value\n",
    "     print(\"The langauge is in\",lang[0]) # printing the language"
   ]
  },
  {
   "cell_type": "markdown",
   "metadata": {},
   "source": [
    "## On the basis of confusion matrix following are the corner cases"
   ]
  },
  {
   "cell_type": "code",
   "execution_count": 59,
   "metadata": {},
   "outputs": [
    {
     "name": "stdout",
     "output_type": "stream",
     "text": [
      "The langauge is in English\n"
     ]
    }
   ],
   "source": [
    "predict2(\"oye cual es tu profesion\") # actual language is Spanish but identified as English by the model."
   ]
  },
  {
   "cell_type": "code",
   "execution_count": 60,
   "metadata": {},
   "outputs": [
    {
     "name": "stdout",
     "output_type": "stream",
     "text": [
      "The langauge is in English\n"
     ]
    }
   ],
   "source": [
    "predict2(\"Hey was ist dein Beruf\")  # actual language is German but identified as English by the model."
   ]
  },
  {
   "cell_type": "code",
   "execution_count": 61,
   "metadata": {},
   "outputs": [
    {
     "name": "stdout",
     "output_type": "stream",
     "text": [
      "The langauge is in English\n"
     ]
    }
   ],
   "source": [
    "predict2(\"hey wat is je beroep?\")  # actual language is Dutch but identified as English by the model."
   ]
  },
  {
   "cell_type": "code",
   "execution_count": 62,
   "metadata": {},
   "outputs": [
    {
     "name": "stdout",
     "output_type": "stream",
     "text": [
      "The langauge is in English\n"
     ]
    }
   ],
   "source": [
    "predict2(\"hej hvad er dit erhverv\") # actual language is Dutch but identified as English by the model."
   ]
  },
  {
   "cell_type": "code",
   "execution_count": 63,
   "metadata": {},
   "outputs": [
    {
     "name": "stdout",
     "output_type": "stream",
     "text": [
      "The langauge is in English\n"
     ]
    }
   ],
   "source": [
    "predict2(\"hey senin mesleğin ne\")  # actual language is Turkish but identified as English by the model."
   ]
  },
  {
   "cell_type": "markdown",
   "metadata": {},
   "source": [
    "## Following are the correct predictions made by the model"
   ]
  },
  {
   "cell_type": "code",
   "execution_count": 64,
   "metadata": {},
   "outputs": [
    {
     "name": "stdout",
     "output_type": "stream",
     "text": [
      "The langauge is in English\n"
     ]
    }
   ],
   "source": [
    "predict2(\"hey, how are you !\")"
   ]
  },
  {
   "cell_type": "code",
   "execution_count": 65,
   "metadata": {},
   "outputs": [
    {
     "name": "stdout",
     "output_type": "stream",
     "text": [
      "The langauge is in Hindi\n"
     ]
    }
   ],
   "source": [
    "predict2(\"अरे आपका पेशा क्या है\")"
   ]
  },
  {
   "cell_type": "code",
   "execution_count": 66,
   "metadata": {},
   "outputs": [
    {
     "name": "stdout",
     "output_type": "stream",
     "text": [
      "The langauge is in Malayalam\n"
     ]
    }
   ],
   "source": [
    "predict2(\"ഹേയ് എന്താണ് നിങ്ങളുടെ തൊഴിൽ\")"
   ]
  },
  {
   "cell_type": "code",
   "execution_count": 67,
   "metadata": {},
   "outputs": [
    {
     "name": "stdout",
     "output_type": "stream",
     "text": [
      "The langauge is in Russian\n"
     ]
    }
   ],
   "source": [
    "predict2(\"эй, какая у тебя профессия\")"
   ]
  },
  {
   "cell_type": "code",
   "execution_count": 68,
   "metadata": {},
   "outputs": [
    {
     "name": "stdout",
     "output_type": "stream",
     "text": [
      "The langauge is in Arabic\n"
     ]
    }
   ],
   "source": [
    "predict2(\"مهلا ما هي مهنتك\")"
   ]
  },
  {
   "cell_type": "markdown",
   "metadata": {},
   "source": [
    "# Using TF-IDF and Logistic regression"
   ]
  },
  {
   "cell_type": "code",
   "execution_count": 69,
   "metadata": {},
   "outputs": [
    {
     "data": {
      "text/plain": [
       "LogisticRegression()"
      ]
     },
     "execution_count": 69,
     "metadata": {},
     "output_type": "execute_result"
    }
   ],
   "source": [
    "from sklearn.linear_model import LogisticRegression\n",
    "model4=LogisticRegression()\n",
    "x3_train, x3_test, y3_train, y3_test = train_test_split(t, z, test_size = 0.20)\n",
    "model4.fit(x3_train, y3_train)"
   ]
  },
  {
   "cell_type": "code",
   "execution_count": 70,
   "metadata": {},
   "outputs": [],
   "source": [
    "ytfl_pred = model4.predict(x3_test)"
   ]
  },
  {
   "cell_type": "code",
   "execution_count": 71,
   "metadata": {},
   "outputs": [],
   "source": [
    "ac4 = accuracy_score(y3_test, ytfl_pred)\n",
    "cm4 = confusion_matrix(y3_test, ytfl_pred)"
   ]
  },
  {
   "cell_type": "code",
   "execution_count": 72,
   "metadata": {},
   "outputs": [
    {
     "name": "stdout",
     "output_type": "stream",
     "text": [
      "Accuracy is :98.45261121856866 %\n"
     ]
    }
   ],
   "source": [
    "print(f\"Accuracy is :{ac4*100} %\")"
   ]
  },
  {
   "cell_type": "code",
   "execution_count": 73,
   "metadata": {},
   "outputs": [
    {
     "data": {
      "image/png": "[encoded data removed]",
      "text/plain": [
       "<Figure size 1800x1440 with 2 Axes>"
      ]
     },
     "metadata": {
      "needs_background": "light"
     },
     "output_type": "display_data"
    }
   ],
   "source": [
    "plt.figure(figsize=(25,20))\n",
    "tick_marks = np.arange(len(newlbs))\n",
    "sns.heatmap(cm4, annot = True)\n",
    "plt.xticks(tick_marks, newlbs,rotation=90)\n",
    "plt.yticks(tick_marks, newlbs,rotation=0)\n",
    "plt.show()"
   ]
  },
  {
   "cell_type": "code",
   "execution_count": 74,
   "metadata": {},
   "outputs": [],
   "source": [
    "def predict4(text):\n",
    "     x = tf.transform([text]).toarray() # converting text to bag of words model (Vector)\n",
    "     lang = model4.predict(x) # predicting the language\n",
    "     lang = lbe.inverse_transform(lang) # finding the language corresponding the the predicted value\n",
    "     print(\"The langauge is in\",lang[0]) # printing the language"
   ]
  },
  {
   "cell_type": "code",
   "execution_count": 75,
   "metadata": {},
   "outputs": [
    {
     "name": "stdout",
     "output_type": "stream",
     "text": [
      "The langauge is in Spanish\n"
     ]
    }
   ],
   "source": [
    "predict4(\"oye cual es tu profesion\") "
   ]
  },
  {
   "cell_type": "code",
   "execution_count": 76,
   "metadata": {},
   "outputs": [
    {
     "name": "stdout",
     "output_type": "stream",
     "text": [
      "The langauge is in German\n"
     ]
    }
   ],
   "source": [
    "predict4(\"Hey was ist dein Beruf\")"
   ]
  },
  {
   "cell_type": "code",
   "execution_count": 77,
   "metadata": {},
   "outputs": [
    {
     "name": "stdout",
     "output_type": "stream",
     "text": [
      "The langauge is in Dutch\n"
     ]
    }
   ],
   "source": [
    "predict4(\"hey wat is je beroep?\")"
   ]
  },
  {
   "cell_type": "code",
   "execution_count": 78,
   "metadata": {},
   "outputs": [
    {
     "name": "stdout",
     "output_type": "stream",
     "text": [
      "The langauge is in Danish\n"
     ]
    }
   ],
   "source": [
    "predict4(\"hej hvad er dit erhverv\")"
   ]
  },
  {
   "cell_type": "code",
   "execution_count": 80,
   "metadata": {},
   "outputs": [
    {
     "name": "stdout",
     "output_type": "stream",
     "text": [
      "The langauge is in Turkish\n"
     ]
    }
   ],
   "source": [
    "predict4(\"hey senin mesleğin ne\")"
   ]
  },
  {
   "cell_type": "markdown",
   "metadata": {},
   "source": [
    "## All the corner cases of TF-IDF with Naive bayes model has been solved in this model.\n",
    "\n",
    "\n",
    "\n",
    "\n"
   ]
  },
  {
   "cell_type": "markdown",
   "metadata": {},
   "source": [
    "  "
   ]
  },
  {
   "cell_type": "markdown",
   "metadata": {},
   "source": [
    "# CONCLUSION \n",
    "\n",
    "## TF-IDF ---------> TfidfVectorizer\n",
    "## Bag Of Words ----------> CountVectorizer\n",
    "\n",
    "| Vectorization | Model | Accuracy |\n",
    "| :- | -: | :-: |\n",
    "| TF-IDF | Naive Bayes | 81.33%\n",
    "| CountVectorizer | LogisticRegression | 95.69%\n",
    "| CountVectorizer | Naive Bayes | 97.34%\n",
    "| TF-IDF | LogisticRegression | 98.45%"
   ]
  }
 ],
 "metadata": {
  "kernelspec": {
   "display_name": "Python 3",
   "language": "python",
   "name": "python3"
  },
  "language_info": {
   "codemirror_mode": {
    "name": "ipython",
    "version": 3
   },
   "file_extension": ".py",
   "mimetype": "text/x-python",
   "name": "python",
   "nbconvert_exporter": "python",
   "pygments_lexer": "ipython3",
   "version": "3.8.5"
  }
 },
 "nbformat": 4,
 "nbformat_minor": 4
}
